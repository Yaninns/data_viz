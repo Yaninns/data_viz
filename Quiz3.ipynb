{
  "nbformat": 4,
  "nbformat_minor": 0,
  "metadata": {
    "colab": {
      "name": "Quiz3.ipynb",
      "provenance": [],
      "mount_file_id": "https://github.com/Yaninns/data_viz/blob/main/Quiz3.ipynb",
      "authorship_tag": "ABX9TyOJbPG/lN9B+oDi76l9R1cC",
      "include_colab_link": true
    },
    "kernelspec": {
      "name": "python3",
      "display_name": "Python 3"
    }
  },
  "cells": [
    {
      "cell_type": "markdown",
      "metadata": {
        "id": "view-in-github",
        "colab_type": "text"
      },
      "source": [
        "<a href=\"https://colab.research.google.com/github/Yaninns/data_viz/blob/main/Quiz3.ipynb\" target=\"_parent\"><img src=\"https://colab.research.google.com/assets/colab-badge.svg\" alt=\"Open In Colab\"/></a>"
      ]
    },
    {
      "cell_type": "code",
      "metadata": {
        "id": "VfjYLn3v66uy"
      },
      "source": [
        "import pandas as pd\r\n",
        "import os"
      ],
      "execution_count": 2,
      "outputs": []
    },
    {
      "cell_type": "code",
      "metadata": {
        "colab": {
          "base_uri": "https://localhost:8080/"
        },
        "id": "yZD48xxe76YS",
        "outputId": "375cacfe-075a-4102-cbeb-b7dd5143dd9d"
      },
      "source": [
        "from google.colab import drive\r\n",
        "drive.mount('/content/drive')"
      ],
      "execution_count": 3,
      "outputs": [
        {
          "output_type": "stream",
          "text": [
            "Mounted at /content/drive\n"
          ],
          "name": "stdout"
        }
      ]
    },
    {
      "cell_type": "code",
      "metadata": {
        "id": "SqF_CZQj7-qV"
      },
      "source": [
        "path = '/content/drive/My Drive/Data_viz'"
      ],
      "execution_count": 11,
      "outputs": []
    },
    {
      "cell_type": "code",
      "metadata": {
        "colab": {
          "base_uri": "https://localhost:8080/",
          "height": 35
        },
        "id": "8baFu9KE8A3e",
        "outputId": "92e98525-80a1-4977-98ea-f70f6bb47650"
      },
      "source": [
        "data = os.path.join(path,'-.57-.58-1.xls')\r\n",
        "data"
      ],
      "execution_count": 12,
      "outputs": [
        {
          "output_type": "execute_result",
          "data": {
            "application/vnd.google.colaboratory.intrinsic+json": {
              "type": "string"
            },
            "text/plain": [
              "'/content/drive/My Drive/Data_viz/-.57-.58-1.xls'"
            ]
          },
          "metadata": {
            "tags": []
          },
          "execution_count": 12
        }
      ]
    },
    {
      "cell_type": "code",
      "metadata": {
        "colab": {
          "base_uri": "https://localhost:8080/",
          "height": 391
        },
        "id": "VB1QWuiW86Ai",
        "outputId": "0af99053-3b68-4f35-99cb-2284f64b4ebb"
      },
      "source": [
        "data1 = pd.read_excel(data,header=4,skipfooter=20)\r\n",
        "data1.head()"
      ],
      "execution_count": 13,
      "outputs": [
        {
          "output_type": "execute_result",
          "data": {
            "text/html": [
              "<div>\n",
              "<style scoped>\n",
              "    .dataframe tbody tr th:only-of-type {\n",
              "        vertical-align: middle;\n",
              "    }\n",
              "\n",
              "    .dataframe tbody tr th {\n",
              "        vertical-align: top;\n",
              "    }\n",
              "\n",
              "    .dataframe thead th {\n",
              "        text-align: right;\n",
              "    }\n",
              "</style>\n",
              "<table border=\"1\" class=\"dataframe\">\n",
              "  <thead>\n",
              "    <tr style=\"text-align: right;\">\n",
              "      <th></th>\n",
              "      <th>ลำดับ</th>\n",
              "      <th>งานจัดซื้อ</th>\n",
              "      <th>วงเงินงบประมาณ</th>\n",
              "      <th>วิธีซื้อ</th>\n",
              "      <th>ผู้เสนอราคาและราคาที่เสนอ</th>\n",
              "      <th>Unnamed: 5</th>\n",
              "      <th>ผู้ได้รับการคัดเลือกและราคา</th>\n",
              "      <th>Unnamed: 7</th>\n",
              "      <th>เหตุผลที่คัดเลือกโดยสรุป</th>\n",
              "    </tr>\n",
              "  </thead>\n",
              "  <tbody>\n",
              "    <tr>\n",
              "      <th>0</th>\n",
              "      <td>ที่</td>\n",
              "      <td>NaN</td>\n",
              "      <td>(ราคากลาง)</td>\n",
              "      <td>NaN</td>\n",
              "      <td>NaN</td>\n",
              "      <td>NaN</td>\n",
              "      <td>NaN</td>\n",
              "      <td>NaN</td>\n",
              "      <td>NaN</td>\n",
              "    </tr>\n",
              "    <tr>\n",
              "      <th>1</th>\n",
              "      <td>1</td>\n",
              "      <td>จัดซื้อน้ำดิ่มบรรจุถังใส PC จำนวน 10 ถัง ประจำ...</td>\n",
              "      <td>350</td>\n",
              "      <td>ตกลงราคา</td>\n",
              "      <td>บริษัท ชลบุรี เลี่ยงเฮงไถ่ จำกัด</td>\n",
              "      <td>350.00</td>\n",
              "      <td>บริษัท ชลบุรี เลี่ยงเฮงไถ่ จำกัด</td>\n",
              "      <td>350.00</td>\n",
              "      <td>เป็นผู้ให้บริการจำหน่าย</td>\n",
              "    </tr>\n",
              "    <tr>\n",
              "      <th>2</th>\n",
              "      <td>2</td>\n",
              "      <td>จัดซื้อน้ำมันชั้อเพลิงใช้สำหรับรถยนต์ราชการ</td>\n",
              "      <td>47251.4</td>\n",
              "      <td>ตกลงราคา</td>\n",
              "      <td>สถานีบริการน้ำมันเชื้อเพลิงสวัสดิการ</td>\n",
              "      <td>47251.38</td>\n",
              "      <td>สถานีบริการน้ำมันเชื้อเพลิงสวัสดิการ</td>\n",
              "      <td>47251.38</td>\n",
              "      <td>เป็นผู้ให้บริการจำหน่าย</td>\n",
              "    </tr>\n",
              "    <tr>\n",
              "      <th>3</th>\n",
              "      <td>3</td>\n",
              "      <td>จัดซื้อหนังสือพิมพ์ เดือน ก.ย.57</td>\n",
              "      <td>4730</td>\n",
              "      <td>ตกลงราคา</td>\n",
              "      <td>บ.รุ่งโรฒน์บริการ</td>\n",
              "      <td>4730.00</td>\n",
              "      <td>บ.รุ่งโรฒน์บริการ</td>\n",
              "      <td>4730.00</td>\n",
              "      <td>เป็นผู้ให้บริการจำหน่าย</td>\n",
              "    </tr>\n",
              "    <tr>\n",
              "      <th>4</th>\n",
              "      <td>4</td>\n",
              "      <td>จัดซื้อหนังสือพิมพ์ เดือน ก.ย.57</td>\n",
              "      <td>2160</td>\n",
              "      <td>ตกลงราคา</td>\n",
              "      <td>บ.รุ่งโรฒน์บริการ</td>\n",
              "      <td>2160.00</td>\n",
              "      <td>บ.รุ่งโรฒน์บริการ</td>\n",
              "      <td>2160.00</td>\n",
              "      <td>เป็นผู้ให้บริการจำหน่าย</td>\n",
              "    </tr>\n",
              "  </tbody>\n",
              "</table>\n",
              "</div>"
            ],
            "text/plain": [
              "  ลำดับ  ... เหตุผลที่คัดเลือกโดยสรุป\n",
              "0   ที่  ...                      NaN\n",
              "1     1  ...  เป็นผู้ให้บริการจำหน่าย\n",
              "2     2  ...  เป็นผู้ให้บริการจำหน่าย\n",
              "3     3  ...  เป็นผู้ให้บริการจำหน่าย\n",
              "4     4  ...  เป็นผู้ให้บริการจำหน่าย\n",
              "\n",
              "[5 rows x 9 columns]"
            ]
          },
          "metadata": {
            "tags": []
          },
          "execution_count": 13
        }
      ]
    },
    {
      "cell_type": "code",
      "metadata": {
        "id": "0kpSHWTp3Lwy",
        "outputId": "17b4e1a2-a782-4db0-ca61-a217387a0539",
        "colab": {
          "base_uri": "https://localhost:8080/",
          "height": 340
        }
      },
      "source": [
        "data2 = pd.read_excel(data,sheet_name='พย.57',header=4,skipfooter=30)\r\n",
        "data2.head()"
      ],
      "execution_count": 14,
      "outputs": [
        {
          "output_type": "execute_result",
          "data": {
            "text/html": [
              "<div>\n",
              "<style scoped>\n",
              "    .dataframe tbody tr th:only-of-type {\n",
              "        vertical-align: middle;\n",
              "    }\n",
              "\n",
              "    .dataframe tbody tr th {\n",
              "        vertical-align: top;\n",
              "    }\n",
              "\n",
              "    .dataframe thead th {\n",
              "        text-align: right;\n",
              "    }\n",
              "</style>\n",
              "<table border=\"1\" class=\"dataframe\">\n",
              "  <thead>\n",
              "    <tr style=\"text-align: right;\">\n",
              "      <th></th>\n",
              "      <th>ลำดับ</th>\n",
              "      <th>งานจัดซื้อ</th>\n",
              "      <th>วงเงินงบประมาณ</th>\n",
              "      <th>วิธีซื้อ</th>\n",
              "      <th>ผู้เสนอราคาและราคาที่เสนอ</th>\n",
              "      <th>Unnamed: 5</th>\n",
              "      <th>ผู้ได้รับการคัดเลือกและราคา</th>\n",
              "      <th>Unnamed: 7</th>\n",
              "      <th>เหตุผลที่คัดเลือกโดยสรุป</th>\n",
              "    </tr>\n",
              "  </thead>\n",
              "  <tbody>\n",
              "    <tr>\n",
              "      <th>0</th>\n",
              "      <td>ที่</td>\n",
              "      <td>NaN</td>\n",
              "      <td>(ราคากลาง)</td>\n",
              "      <td>NaN</td>\n",
              "      <td>NaN</td>\n",
              "      <td>NaN</td>\n",
              "      <td>NaN</td>\n",
              "      <td>NaN</td>\n",
              "      <td>NaN</td>\n",
              "    </tr>\n",
              "    <tr>\n",
              "      <th>1</th>\n",
              "      <td>1</td>\n",
              "      <td>จัดซื้อวัสดุสำนักงาน จำนวน 17 รายการ</td>\n",
              "      <td>13090.4</td>\n",
              "      <td>ตกลงราคา</td>\n",
              "      <td>หจก.ไมโคร ซัม เอ็นเตอร์ไพร์ส</td>\n",
              "      <td>13090.38</td>\n",
              "      <td>หจก.ไมโคร ซัม เอ็นเตอร์ไพร์ส</td>\n",
              "      <td>13090.38</td>\n",
              "      <td>เป็นผู้ให้บริการจำหน่าย</td>\n",
              "    </tr>\n",
              "    <tr>\n",
              "      <th>2</th>\n",
              "      <td>2</td>\n",
              "      <td>จัดซื้อวัสดุคอมฯ จำนวน 1 รายการ</td>\n",
              "      <td>15729</td>\n",
              "      <td>ตกลงราคา</td>\n",
              "      <td>บริษัท พีแอนด์เจ พรีเวย์ เทรดดิ้ง จำกัด</td>\n",
              "      <td>15729.00</td>\n",
              "      <td>บริษัท พีแอนด์เจ พรีเวย์ เทรดดิ้ง จำกัด</td>\n",
              "      <td>15729.00</td>\n",
              "      <td>เป็นผู้จำหน่าย</td>\n",
              "    </tr>\n",
              "    <tr>\n",
              "      <th>3</th>\n",
              "      <td>3</td>\n",
              "      <td>จัดซื้อวัสดุสำนักงาน จำนวน 3 รายการ</td>\n",
              "      <td>43623.9</td>\n",
              "      <td>ตกลงราคา</td>\n",
              "      <td>บริษัท วินเนอร์ เปเปอร์ จำกัด</td>\n",
              "      <td>43623.90</td>\n",
              "      <td>บริษัท วินเนอร์ เปเปอร์ จำกัด</td>\n",
              "      <td>43623.90</td>\n",
              "      <td>เป็นผู้จำหน่าย</td>\n",
              "    </tr>\n",
              "    <tr>\n",
              "      <th>4</th>\n",
              "      <td>4</td>\n",
              "      <td>จัดซื้อเครื่องโทรศัพท์เคลื่อนที่ (มือถือ) จำนว...</td>\n",
              "      <td>30000</td>\n",
              "      <td>ตกลงราคา</td>\n",
              "      <td>บริษัท รามอินทรา อินเตอร์เทรด จำกัด</td>\n",
              "      <td>29990.00</td>\n",
              "      <td>บริษัท รามอินทรา อินเตอร์เทรด จำกัด</td>\n",
              "      <td>29990.00</td>\n",
              "      <td>เป็นผู้จำหน่าย</td>\n",
              "    </tr>\n",
              "  </tbody>\n",
              "</table>\n",
              "</div>"
            ],
            "text/plain": [
              "  ลำดับ  ... เหตุผลที่คัดเลือกโดยสรุป\n",
              "0   ที่  ...                      NaN\n",
              "1     1  ...  เป็นผู้ให้บริการจำหน่าย\n",
              "2     2  ...           เป็นผู้จำหน่าย\n",
              "3     3  ...           เป็นผู้จำหน่าย\n",
              "4     4  ...           เป็นผู้จำหน่าย\n",
              "\n",
              "[5 rows x 9 columns]"
            ]
          },
          "metadata": {
            "tags": []
          },
          "execution_count": 14
        }
      ]
    },
    {
      "cell_type": "code",
      "metadata": {
        "id": "XW62HR9R3L7U"
      },
      "source": [
        "oct_57 = data1.rename(columns={'Unnamed: 5':'ราคาเสนอ','Unnamed: 7':'ราคาซื้อ'})\r\n",
        "nov_57 = data2.rename(columns={'Unnamed: 5':'ราคาเสนอ','Unnamed: 7':'ราคาซื้อ'})"
      ],
      "execution_count": 15,
      "outputs": []
    },
    {
      "cell_type": "code",
      "metadata": {
        "id": "7YmhuIXi3L_J",
        "outputId": "2de6d316-a2d8-4633-aaca-64a8b45195b5",
        "colab": {
          "base_uri": "https://localhost:8080/",
          "height": 674
        }
      },
      "source": [
        "data_all = pd.concat([oct_57,nov_57])\r\n",
        "data_all"
      ],
      "execution_count": 17,
      "outputs": [
        {
          "output_type": "execute_result",
          "data": {
            "text/html": [
              "<div>\n",
              "<style scoped>\n",
              "    .dataframe tbody tr th:only-of-type {\n",
              "        vertical-align: middle;\n",
              "    }\n",
              "\n",
              "    .dataframe tbody tr th {\n",
              "        vertical-align: top;\n",
              "    }\n",
              "\n",
              "    .dataframe thead th {\n",
              "        text-align: right;\n",
              "    }\n",
              "</style>\n",
              "<table border=\"1\" class=\"dataframe\">\n",
              "  <thead>\n",
              "    <tr style=\"text-align: right;\">\n",
              "      <th></th>\n",
              "      <th>ลำดับ</th>\n",
              "      <th>งานจัดซื้อ</th>\n",
              "      <th>วงเงินงบประมาณ</th>\n",
              "      <th>วิธีซื้อ</th>\n",
              "      <th>ผู้เสนอราคาและราคาที่เสนอ</th>\n",
              "      <th>ราคาเสนอ</th>\n",
              "      <th>ผู้ได้รับการคัดเลือกและราคา</th>\n",
              "      <th>ราคาซื้อ</th>\n",
              "      <th>เหตุผลที่คัดเลือกโดยสรุป</th>\n",
              "    </tr>\n",
              "  </thead>\n",
              "  <tbody>\n",
              "    <tr>\n",
              "      <th>0</th>\n",
              "      <td>ที่</td>\n",
              "      <td>NaN</td>\n",
              "      <td>(ราคากลาง)</td>\n",
              "      <td>NaN</td>\n",
              "      <td>NaN</td>\n",
              "      <td>NaN</td>\n",
              "      <td>NaN</td>\n",
              "      <td>NaN</td>\n",
              "      <td>NaN</td>\n",
              "    </tr>\n",
              "    <tr>\n",
              "      <th>1</th>\n",
              "      <td>1</td>\n",
              "      <td>จัดซื้อน้ำดิ่มบรรจุถังใส PC จำนวน 10 ถัง ประจำ...</td>\n",
              "      <td>350</td>\n",
              "      <td>ตกลงราคา</td>\n",
              "      <td>บริษัท ชลบุรี เลี่ยงเฮงไถ่ จำกัด</td>\n",
              "      <td>350.00</td>\n",
              "      <td>บริษัท ชลบุรี เลี่ยงเฮงไถ่ จำกัด</td>\n",
              "      <td>350.00</td>\n",
              "      <td>เป็นผู้ให้บริการจำหน่าย</td>\n",
              "    </tr>\n",
              "    <tr>\n",
              "      <th>2</th>\n",
              "      <td>2</td>\n",
              "      <td>จัดซื้อน้ำมันชั้อเพลิงใช้สำหรับรถยนต์ราชการ</td>\n",
              "      <td>47251.4</td>\n",
              "      <td>ตกลงราคา</td>\n",
              "      <td>สถานีบริการน้ำมันเชื้อเพลิงสวัสดิการ</td>\n",
              "      <td>47251.38</td>\n",
              "      <td>สถานีบริการน้ำมันเชื้อเพลิงสวัสดิการ</td>\n",
              "      <td>47251.38</td>\n",
              "      <td>เป็นผู้ให้บริการจำหน่าย</td>\n",
              "    </tr>\n",
              "    <tr>\n",
              "      <th>3</th>\n",
              "      <td>3</td>\n",
              "      <td>จัดซื้อหนังสือพิมพ์ เดือน ก.ย.57</td>\n",
              "      <td>4730</td>\n",
              "      <td>ตกลงราคา</td>\n",
              "      <td>บ.รุ่งโรฒน์บริการ</td>\n",
              "      <td>4730.00</td>\n",
              "      <td>บ.รุ่งโรฒน์บริการ</td>\n",
              "      <td>4730.00</td>\n",
              "      <td>เป็นผู้ให้บริการจำหน่าย</td>\n",
              "    </tr>\n",
              "    <tr>\n",
              "      <th>4</th>\n",
              "      <td>4</td>\n",
              "      <td>จัดซื้อหนังสือพิมพ์ เดือน ก.ย.57</td>\n",
              "      <td>2160</td>\n",
              "      <td>ตกลงราคา</td>\n",
              "      <td>บ.รุ่งโรฒน์บริการ</td>\n",
              "      <td>2160.00</td>\n",
              "      <td>บ.รุ่งโรฒน์บริการ</td>\n",
              "      <td>2160.00</td>\n",
              "      <td>เป็นผู้ให้บริการจำหน่าย</td>\n",
              "    </tr>\n",
              "    <tr>\n",
              "      <th>...</th>\n",
              "      <td>...</td>\n",
              "      <td>...</td>\n",
              "      <td>...</td>\n",
              "      <td>...</td>\n",
              "      <td>...</td>\n",
              "      <td>...</td>\n",
              "      <td>...</td>\n",
              "      <td>...</td>\n",
              "      <td>...</td>\n",
              "    </tr>\n",
              "    <tr>\n",
              "      <th>46</th>\n",
              "      <td>33</td>\n",
              "      <td>NaN</td>\n",
              "      <td>NaN</td>\n",
              "      <td>ตกลงราคา</td>\n",
              "      <td>NaN</td>\n",
              "      <td>NaN</td>\n",
              "      <td>NaN</td>\n",
              "      <td>NaN</td>\n",
              "      <td>เป็นผู้จำหน่าย</td>\n",
              "    </tr>\n",
              "    <tr>\n",
              "      <th>47</th>\n",
              "      <td>34</td>\n",
              "      <td>NaN</td>\n",
              "      <td>NaN</td>\n",
              "      <td>ตกลงราคา</td>\n",
              "      <td>NaN</td>\n",
              "      <td>NaN</td>\n",
              "      <td>NaN</td>\n",
              "      <td>NaN</td>\n",
              "      <td>เป็นผู้จำหน่าย</td>\n",
              "    </tr>\n",
              "    <tr>\n",
              "      <th>48</th>\n",
              "      <td>35</td>\n",
              "      <td>NaN</td>\n",
              "      <td>NaN</td>\n",
              "      <td>ตกลงราคา</td>\n",
              "      <td>NaN</td>\n",
              "      <td>NaN</td>\n",
              "      <td>NaN</td>\n",
              "      <td>NaN</td>\n",
              "      <td>เป็นผู้จำหน่าย</td>\n",
              "    </tr>\n",
              "    <tr>\n",
              "      <th>49</th>\n",
              "      <td>36</td>\n",
              "      <td>NaN</td>\n",
              "      <td>NaN</td>\n",
              "      <td>ตกลงราคา</td>\n",
              "      <td>NaN</td>\n",
              "      <td>NaN</td>\n",
              "      <td>NaN</td>\n",
              "      <td>NaN</td>\n",
              "      <td>เป็นผู้จำหน่าย</td>\n",
              "    </tr>\n",
              "    <tr>\n",
              "      <th>50</th>\n",
              "      <td>37</td>\n",
              "      <td>NaN</td>\n",
              "      <td>NaN</td>\n",
              "      <td>ตกลงราคา</td>\n",
              "      <td>NaN</td>\n",
              "      <td>NaN</td>\n",
              "      <td>NaN</td>\n",
              "      <td>NaN</td>\n",
              "      <td>เป็นผู้จำหน่าย</td>\n",
              "    </tr>\n",
              "  </tbody>\n",
              "</table>\n",
              "<p>67 rows × 9 columns</p>\n",
              "</div>"
            ],
            "text/plain": [
              "   ลำดับ  ... เหตุผลที่คัดเลือกโดยสรุป\n",
              "0    ที่  ...                      NaN\n",
              "1      1  ...  เป็นผู้ให้บริการจำหน่าย\n",
              "2      2  ...  เป็นผู้ให้บริการจำหน่าย\n",
              "3      3  ...  เป็นผู้ให้บริการจำหน่าย\n",
              "4      4  ...  เป็นผู้ให้บริการจำหน่าย\n",
              "..   ...  ...                      ...\n",
              "46    33  ...           เป็นผู้จำหน่าย\n",
              "47    34  ...           เป็นผู้จำหน่าย\n",
              "48    35  ...           เป็นผู้จำหน่าย\n",
              "49    36  ...           เป็นผู้จำหน่าย\n",
              "50    37  ...           เป็นผู้จำหน่าย\n",
              "\n",
              "[67 rows x 9 columns]"
            ]
          },
          "metadata": {
            "tags": []
          },
          "execution_count": 17
        }
      ]
    },
    {
      "cell_type": "code",
      "metadata": {
        "id": "KSEdchv-3MBz"
      },
      "source": [
        ""
      ],
      "execution_count": null,
      "outputs": []
    }
  ]
}