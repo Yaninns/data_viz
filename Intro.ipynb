{
  "nbformat": 4,
  "nbformat_minor": 0,
  "metadata": {
    "colab": {
      "name": "Intro.ipynb",
      "provenance": [],
      "authorship_tag": "ABX9TyOWvKqI3IL3IlGxwG3xgL7x",
      "include_colab_link": true
    },
    "kernelspec": {
      "name": "python3",
      "display_name": "Python 3"
    }
  },
  "cells": [
    {
      "cell_type": "markdown",
      "metadata": {
        "id": "view-in-github",
        "colab_type": "text"
      },
      "source": [
        "<a href=\"https://colab.research.google.com/github/tohnperfect/data_viz/blob/main/Intro.ipynb\" target=\"_parent\"><img src=\"https://colab.research.google.com/assets/colab-badge.svg\" alt=\"Open In Colab\"/></a>"
      ]
    },
    {
      "cell_type": "markdown",
      "metadata": {
        "id": "Q20wHbGMMQ5g"
      },
      "source": [
        "ธนพงศ์ อินทระ xxxxxxxxxx"
      ]
    },
    {
      "cell_type": "markdown",
      "metadata": {
        "id": "C0hpD7dvM_iV"
      },
      "source": [
        "ภาษา Markdown\r\n",
        "\r\n",
        "# Markdown\r\n",
        "## Markdown\r\n",
        "\r\n",
        "~strike~"
      ]
    },
    {
      "cell_type": "code",
      "metadata": {
        "colab": {
          "base_uri": "https://localhost:8080/"
        },
        "id": "v3IlR8uxM-2v",
        "outputId": "7a5f7377-840f-4609-baeb-f05fe53563e6"
      },
      "source": [
        "print('ธนพงศ์')"
      ],
      "execution_count": 1,
      "outputs": [
        {
          "output_type": "stream",
          "text": [
            "ธนพงศ์\n"
          ],
          "name": "stdout"
        }
      ]
    },
    {
      "cell_type": "code",
      "metadata": {
        "id": "PT5nP6v-LLg5"
      },
      "source": [
        ""
      ],
      "execution_count": null,
      "outputs": []
    }
  ]
}