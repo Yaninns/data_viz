{
  "nbformat": 4,
  "nbformat_minor": 0,
  "metadata": {
    "colab": {
      "name": "การบ้าน",
      "provenance": [],
      "authorship_tag": "ABX9TyM4+5DSy2So8npi7gqXJuix",
      "include_colab_link": true
    },
    "kernelspec": {
      "name": "python3",
      "display_name": "Python 3"
    }
  },
  "cells": [
    {
      "cell_type": "markdown",
      "metadata": {
        "id": "view-in-github",
        "colab_type": "text"
      },
      "source": [
        "<a href=\"https://colab.research.google.com/github/Yaninns/data_viz/blob/main/%E0%B8%81%E0%B8%B2%E0%B8%A3%E0%B8%9A%E0%B9%89%E0%B8%B2%E0%B8%99.ipynb\" target=\"_parent\"><img src=\"https://colab.research.google.com/assets/colab-badge.svg\" alt=\"Open In Colab\"/></a>"
      ]
    },
    {
      "cell_type": "code",
      "metadata": {
        "id": "KRWQrko8YZCl",
        "colab": {
          "base_uri": "https://localhost:8080/"
        },
        "outputId": "7a1023fd-be6e-481b-dd03-4fe7b59073fa"
      },
      "source": [
        "time = '12 : 30 : 15'\r\n",
        "t = time.split( ' : ' )\r\n",
        "t\r\n",
        "second = (int(t[0])*3600)+(int(t[1])*60)+int(t[2])\r\n",
        "sec = f'{time} = {second} วินาที'\r\n",
        "print(sec)\r\n",
        "\r\n",
        "time = '13 : 41 : 07'\r\n",
        "t = time.split( ' : ' )\r\n",
        "t\r\n",
        "second = (int(t[0])*3600)+(int(t[1])*60)+int(t[2])\r\n",
        "sec = f'{time} = {second} วินาที'\r\n",
        "print(sec)\r\n",
        "\r\n",
        "time = '12 : 53 : 15'\r\n",
        "t = time.split( ' : ' )\r\n",
        "t\r\n",
        "second = (int(t[0])*3600)+(int(t[1])*60)+int(t[2])\r\n",
        "sec = f'{time} = {second} วินาที'\r\n",
        "print(sec)\r\n",
        "\r\n",
        "time = '00 : 59 : 25'\r\n",
        "t = time.split( ' : ' )\r\n",
        "t\r\n",
        "second = (int(t[0])*3600)+(int(t[1])*60)+int(t[2])\r\n",
        "sec = f'{time} = {second} วินาที'\r\n",
        "print(sec)\r\n",
        "\r\n",
        "time = '12 : 30 : 15'\r\n",
        "t = time.split( ' : ' )\r\n",
        "t\r\n",
        "second = (int(t[0])*3600)+(int(t[1])*60)+int(t[2])\r\n",
        "sec = f'{time} = {second} วินาที'\r\n",
        "print(sec)\r\n",
        "\r\n",
        "time = '11 : 11 : 11'\r\n",
        "t = time.split( ' : ' )\r\n",
        "t\r\n",
        "second = (int(t[0])*3600)+(int(t[1])*60)+int(t[2])\r\n",
        "sec = f'{time} = {second} วินาที'\r\n",
        "print(sec)\r\n",
        "\r\n",
        "time = '16 : 06 : 09'\r\n",
        "t = time.split( ' : ' )\r\n",
        "t\r\n",
        "second = (int(t[0])*3600)+(int(t[1])*60)+int(t[2])\r\n",
        "sec = f'{time} = {second} วินาที'\r\n",
        "print(sec)\r\n"
      ],
      "execution_count": 56,
      "outputs": [
        {
          "output_type": "stream",
          "text": [
            "12 : 30 : 15 = 45015 วินาที\n",
            "13 : 41 : 07 = 49267 วินาที\n",
            "12 : 53 : 15 = 46395 วินาที\n",
            "00 : 59 : 25 = 3565 วินาที\n",
            "12 : 30 : 15 = 45015 วินาที\n",
            "11 : 11 : 11 = 40271 วินาที\n",
            "16 : 06 : 09 = 57969 วินาที\n"
          ],
          "name": "stdout"
        }
      ]
    }
  ]
}