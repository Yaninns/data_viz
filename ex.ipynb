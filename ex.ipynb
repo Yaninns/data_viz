{
  "nbformat": 4,
  "nbformat_minor": 0,
  "metadata": {
    "colab": {
      "name": "ex.ipynb",
      "provenance": [],
      "authorship_tag": "ABX9TyMmExfY876PUbspZQcbAdIM",
      "include_colab_link": true
    },
    "kernelspec": {
      "name": "python3",
      "display_name": "Python 3"
    }
  },
  "cells": [
    {
      "cell_type": "markdown",
      "metadata": {
        "id": "view-in-github",
        "colab_type": "text"
      },
      "source": [
        "<a href=\"https://colab.research.google.com/github/Yaninns/data_viz/blob/main/ex.ipynb\" target=\"_parent\"><img src=\"https://colab.research.google.com/assets/colab-badge.svg\" alt=\"Open In Colab\"/></a>"
      ]
    },
    {
      "cell_type": "code",
      "metadata": {
        "id": "-ZzcKiHDNWaA"
      },
      "source": [
        "import pandas as pd\r\n",
        "import os\r\n",
        "from scipy import stats"
      ],
      "execution_count": 1,
      "outputs": []
    },
    {
      "cell_type": "code",
      "metadata": {
        "colab": {
          "base_uri": "https://localhost:8080/"
        },
        "id": "v0IXrrobNeTv",
        "outputId": "7cece295-93c3-4374-8b3f-4226cc22d5e3"
      },
      "source": [
        "from google.colab import drive\r\n",
        "drive.mount('/content/drive')"
      ],
      "execution_count": 2,
      "outputs": [
        {
          "output_type": "stream",
          "text": [
            "Mounted at /content/drive\n"
          ],
          "name": "stdout"
        }
      ]
    },
    {
      "cell_type": "code",
      "metadata": {
        "id": "5hMILR4ONeWc"
      },
      "source": [
        "path = '/content/drive/My Drive/data_viz'\r\n",
        "example = os.path.join(path,'Example.csv')"
      ],
      "execution_count": 4,
      "outputs": []
    },
    {
      "cell_type": "code",
      "metadata": {
        "id": "jEE-pk4qNeYt"
      },
      "source": [
        "grading = pd.read_csv(example) \r\n",
        "grading.head()"
      ],
      "execution_count": null,
      "outputs": []
    },
    {
      "cell_type": "code",
      "metadata": {
        "id": "1M04KdcSNebQ"
      },
      "source": [
        "total_sc = grading[['ชื่อ','คะแนนรวม']]\r\n",
        "total_sc.head()"
      ],
      "execution_count": null,
      "outputs": []
    },
    {
      "cell_type": "code",
      "metadata": {
        "id": "LlbrD7DzNeeC"
      },
      "source": [
        "score = list(total_sc['คะแนนรวม'])"
      ],
      "execution_count": null,
      "outputs": []
    },
    {
      "cell_type": "code",
      "metadata": {
        "id": "F8RYd2maNege"
      },
      "source": [
        "def GPA(score) :\r\n",
        "    if score > 100 :\r\n",
        "       print(f'Error')\r\n",
        "    elif 80 <= score < 101 :\r\n",
        "       print('A')\r\n",
        "       return 'A'\r\n",
        "    elif 75 <= score < 80  :\r\n",
        "       print('B+')\r\n",
        "       return 'B+'\r\n",
        "    elif 70 <= score < 75  :\r\n",
        "       print('B')\r\n",
        "       return 'B'\r\n",
        "    elif 65 <= score < 70 :\r\n",
        "       print('C+')\r\n",
        "       return 'C+'\r\n",
        "    elif 60 <= score < 65 :\r\n",
        "       print('C')\r\n",
        "       return 'C'\r\n",
        "    elif 55 <= score < 60 :\r\n",
        "       print('D+')\r\n",
        "       return 'D+'\r\n",
        "    elif 50 <= score < 55 :\r\n",
        "       print('D')\r\n",
        "       return 'D'\r\n",
        "    elif 0 <= score < 50 :\r\n",
        "       print('F')\r\n",
        "       return 'F'\r\n",
        "    elif score < 0 :\r\n",
        "       print(f'Error')"
      ],
      "execution_count": null,
      "outputs": []
    },
    {
      "cell_type": "code",
      "metadata": {
        "id": "MgZ1iLXTNeiw"
      },
      "source": [
        "listA = []\r\n",
        "for i in score:\r\n",
        "    aaa = GPA(i)\r\n",
        "    listA.append(aaa)\r\n",
        "print(listA)"
      ],
      "execution_count": null,
      "outputs": []
    },
    {
      "cell_type": "code",
      "metadata": {
        "id": "ykPtDaQQNelR"
      },
      "source": [
        "grading['Grade'] = pd.DataFrame(listA)\r\n",
        "grading"
      ],
      "execution_count": null,
      "outputs": []
    },
    {
      "cell_type": "code",
      "metadata": {
        "id": "9zj9qeSIN_c7"
      },
      "source": [
        "z_sc = stats.zscore(score)"
      ],
      "execution_count": null,
      "outputs": []
    },
    {
      "cell_type": "code",
      "metadata": {
        "id": "03xcwrG5N_f0"
      },
      "source": [
        "grading['Z_score'] = pd.DataFrame(z_sc)\r\n",
        "grading"
      ],
      "execution_count": null,
      "outputs": []
    },
    {
      "cell_type": "code",
      "metadata": {
        "id": "b5d92C-HN_iZ"
      },
      "source": [
        ""
      ],
      "execution_count": null,
      "outputs": []
    },
    {
      "cell_type": "code",
      "metadata": {
        "id": "L189NdSPN_k7"
      },
      "source": [
        ""
      ],
      "execution_count": null,
      "outputs": []
    }
  ]
}