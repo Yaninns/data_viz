{
  "nbformat": 4,
  "nbformat_minor": 0,
  "metadata": {
    "colab": {
      "name": "Function Loop Condition",
      "provenance": [],
      "authorship_tag": "ABX9TyNwXRBMVP/7Wdxh+5SrAj6t",
      "include_colab_link": true
    },
    "kernelspec": {
      "name": "python3",
      "display_name": "Python 3"
    }
  },
  "cells": [
    {
      "cell_type": "markdown",
      "metadata": {
        "id": "view-in-github",
        "colab_type": "text"
      },
      "source": [
        "<a href=\"https://colab.research.google.com/github/Yaninns/data_viz/blob/main/Function_Loop_Condition.ipynb\" target=\"_parent\"><img src=\"https://colab.research.google.com/assets/colab-badge.svg\" alt=\"Open In Colab\"/></a>"
      ]
    },
    {
      "cell_type": "code",
      "metadata": {
        "colab": {
          "base_uri": "https://localhost:8080/",
          "height": 35
        },
        "id": "NhP5WOgbg7Jx",
        "outputId": "5de79102-fbba-4e22-c400-b298236df775"
      },
      "source": [
        "def print_name (surname,ID,name) :\r\n",
        "  st = f'ชื่อ {name} นามสกุล {surname} รหัส {ID}'\r\n",
        "  return st\r\n",
        "print_name ('ลุนจันทา', '603020886-6' ,'ญาณิศา')\r\n"
      ],
      "execution_count": null,
      "outputs": [
        {
          "output_type": "execute_result",
          "data": {
            "application/vnd.google.colaboratory.intrinsic+json": {
              "type": "string"
            },
            "text/plain": [
              "'ชื่อ ญาณิศา นามสกุล ลุนจันทา รหัส 603020886-6'"
            ]
          },
          "metadata": {
            "tags": []
          },
          "execution_count": 2
        }
      ]
    },
    {
      "cell_type": "code",
      "metadata": {
        "colab": {
          "base_uri": "https://localhost:8080/"
        },
        "id": "-pRqepagpPfg",
        "outputId": "45ccbebc-8ba8-45b2-aad2-ffacb6698a20"
      },
      "source": [
        "print(print_name(name = 'ญาณิศา', surname='ลุนจันทา', ID = '603020886-6'))"
      ],
      "execution_count": null,
      "outputs": [
        {
          "output_type": "stream",
          "text": [
            "ชื่อ ญาณิศา นามสกุล ลุนจันทา รหัส 603020886-6\n"
          ],
          "name": "stdout"
        }
      ]
    },
    {
      "cell_type": "code",
      "metadata": {
        "id": "fxbrwzOxt1Kf"
      },
      "source": [
        "def time_sec (time) :\r\n",
        "  t = time.split( ' : ' )\r\n",
        "  t\r\n",
        "  H = int(t[0])*3600\r\n",
        "  M = int(t[1])*60\r\n",
        "  S = int(t[2])\r\n",
        "  sec = H+M+S\r\n",
        "second = f'{time} = {sec} วินาที'\r\n",
        "print(second)\r\n"
      ],
      "execution_count": null,
      "outputs": []
    },
    {
      "cell_type": "code",
      "metadata": {
        "id": "i2Yt3qSjcibF",
        "outputId": "b3e3fc9f-3c5f-4b2c-c582-424c982a9f74",
        "colab": {
          "base_uri": "https://localhost:8080/"
        }
      },
      "source": [
        "for name1 in range(2,5): ## 2,3,4\r\n",
        "  print(f' now name1 = {name1} ')\r\n",
        "  for name2 in range(1,13): ## 1-12\r\n",
        "      print(name1, ' x ',name2,' = ' ,name1*name2)\r\n",
        "  print(' the inner loop is end ')"
      ],
      "execution_count": 6,
      "outputs": [
        {
          "output_type": "stream",
          "text": [
            " now name1 = 2 \n",
            "2  x  1  =  2\n",
            "2  x  2  =  4\n",
            "2  x  3  =  6\n",
            "2  x  4  =  8\n",
            "2  x  5  =  10\n",
            "2  x  6  =  12\n",
            "2  x  7  =  14\n",
            "2  x  8  =  16\n",
            "2  x  9  =  18\n",
            "2  x  10  =  20\n",
            "2  x  11  =  22\n",
            "2  x  12  =  24\n",
            " the inner loop is end \n",
            " now name1 = 3 \n",
            "3  x  1  =  3\n",
            "3  x  2  =  6\n",
            "3  x  3  =  9\n",
            "3  x  4  =  12\n",
            "3  x  5  =  15\n",
            "3  x  6  =  18\n",
            "3  x  7  =  21\n",
            "3  x  8  =  24\n",
            "3  x  9  =  27\n",
            "3  x  10  =  30\n",
            "3  x  11  =  33\n",
            "3  x  12  =  36\n",
            " the inner loop is end \n",
            " now name1 = 4 \n",
            "4  x  1  =  4\n",
            "4  x  2  =  8\n",
            "4  x  3  =  12\n",
            "4  x  4  =  16\n",
            "4  x  5  =  20\n",
            "4  x  6  =  24\n",
            "4  x  7  =  28\n",
            "4  x  8  =  32\n",
            "4  x  9  =  36\n",
            "4  x  10  =  40\n",
            "4  x  11  =  44\n",
            "4  x  12  =  48\n",
            " the inner loop is end \n"
          ],
          "name": "stdout"
        }
      ]
    },
    {
      "cell_type": "code",
      "metadata": {
        "id": "gzk5BzMWfI5C"
      },
      "source": [
        "list_friend = ['อ้อน','กี้','เฟิร์น','แอร์','แคท']"
      ],
      "execution_count": 11,
      "outputs": []
    },
    {
      "cell_type": "code",
      "metadata": {
        "id": "fDxm7p96ffze"
      },
      "source": [
        "def print_feelings(I,friends,feeling = ' แอบรัก '):\r\n",
        "  for friend in friends :\r\n",
        "    print(f'{I} {feeling} {friend}')"
      ],
      "execution_count": null,
      "outputs": []
    },
    {
      "cell_type": "code",
      "metadata": {
        "colab": {
          "base_uri": "https://localhost:8080/"
        },
        "id": "Okpy0uRNgW-P",
        "outputId": "bbcdcb6d-1985-42e9-b611-a3bdb96ec270"
      },
      "source": [
        "print_feelings('อ้อน' ,list_friend)"
      ],
      "execution_count": 28,
      "outputs": [
        {
          "output_type": "stream",
          "text": [
            "อ้อน  แอบรัก  อ้อน\n",
            "อ้อน  แอบรัก  กี้\n",
            "อ้อน  แอบรัก  เฟิร์น\n",
            "อ้อน  แอบรัก  แอร์\n",
            "อ้อน  แอบรัก  แคท\n"
          ],
          "name": "stdout"
        }
      ]
    },
    {
      "cell_type": "code",
      "metadata": {
        "colab": {
          "base_uri": "https://localhost:8080/"
        },
        "id": "hH039RuRhHhN",
        "outputId": "225781f9-fa91-4a37-82a9-7a2a4d35fa61"
      },
      "source": [
        "print_feelings('อ้อน' ,list_friend,feeling='ตดใส่') ## เปลี่ยน feeling"
      ],
      "execution_count": 29,
      "outputs": [
        {
          "output_type": "stream",
          "text": [
            "อ้อน ตดใส่ อ้อน\n",
            "อ้อน ตดใส่ กี้\n",
            "อ้อน ตดใส่ เฟิร์น\n",
            "อ้อน ตดใส่ แอร์\n",
            "อ้อน ตดใส่ แคท\n"
          ],
          "name": "stdout"
        }
      ]
    },
    {
      "cell_type": "markdown",
      "metadata": {
        "id": "Vx4D7Moikp0a"
      },
      "source": [
        "## Conditional คือ เงื่อนไข /ประโยคเงื่อนไข"
      ]
    },
    {
      "cell_type": "code",
      "metadata": {
        "id": "SaQVtfXTnPr-"
      },
      "source": [
        ""
      ],
      "execution_count": null,
      "outputs": []
    }
  ]
}