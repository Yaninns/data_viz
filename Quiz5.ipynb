{
  "nbformat": 4,
  "nbformat_minor": 0,
  "metadata": {
    "colab": {
      "name": "Quiz5.ipynb",
      "provenance": [],
      "authorship_tag": "ABX9TyOxop8MP6wVsvJJCFXs4jni",
      "include_colab_link": true
    },
    "kernelspec": {
      "name": "python3",
      "display_name": "Python 3"
    },
    "language_info": {
      "name": "python"
    }
  },
  "cells": [
    {
      "cell_type": "markdown",
      "metadata": {
        "id": "view-in-github",
        "colab_type": "text"
      },
      "source": [
        "<a href=\"https://colab.research.google.com/github/Yaninns/data_viz/blob/main/Quiz5.ipynb\" target=\"_parent\"><img src=\"https://colab.research.google.com/assets/colab-badge.svg\" alt=\"Open In Colab\"/></a>"
      ]
    },
    {
      "cell_type": "code",
      "metadata": {
        "id": "PEh4fWl5CcQu"
      },
      "source": [
        "import pandas as pd\n",
        "import os"
      ],
      "execution_count": 78,
      "outputs": []
    },
    {
      "cell_type": "code",
      "metadata": {
        "colab": {
          "base_uri": "https://localhost:8080/",
          "height": 496
        },
        "id": "kluSEMOtCgKw",
        "outputId": "67f54fc5-9adc-437a-cd6e-2779abee883c"
      },
      "source": [
        "data = pd.read_csv('search_request.csv')\n",
        "data.head()"
      ],
      "execution_count": 79,
      "outputs": [
        {
          "output_type": "execute_result",
          "data": {
            "text/html": [
              "<div>\n",
              "<style scoped>\n",
              "    .dataframe tbody tr th:only-of-type {\n",
              "        vertical-align: middle;\n",
              "    }\n",
              "\n",
              "    .dataframe tbody tr th {\n",
              "        vertical-align: top;\n",
              "    }\n",
              "\n",
              "    .dataframe thead th {\n",
              "        text-align: right;\n",
              "    }\n",
              "</style>\n",
              "<table border=\"1\" class=\"dataframe\">\n",
              "  <thead>\n",
              "    <tr style=\"text-align: right;\">\n",
              "      <th></th>\n",
              "      <th>Unnamed: 0</th>\n",
              "      <th>search_id</th>\n",
              "      <th>search_timestamp</th>\n",
              "      <th>user_agent</th>\n",
              "      <th>q</th>\n",
              "      <th>user_id</th>\n",
              "      <th>session_id</th>\n",
              "      <th>number_of_result</th>\n",
              "      <th>lat</th>\n",
              "      <th>long</th>\n",
              "    </tr>\n",
              "  </thead>\n",
              "  <tbody>\n",
              "    <tr>\n",
              "      <th>0</th>\n",
              "      <td>0</td>\n",
              "      <td>683de889-f923-494e-9d46-44a3d67b7259</td>\n",
              "      <td>2018-06-14 12:34:35.449</td>\n",
              "      <td>Wongnai/8.17.3 rv:8.17.3.3921 (iPhone5,4; iOS;...</td>\n",
              "      <td>NaN</td>\n",
              "      <td>NaN</td>\n",
              "      <td>5lqjjikta19d296mo7g2h1k86p</td>\n",
              "      <td>18.0</td>\n",
              "      <td>12.634739</td>\n",
              "      <td>101.463177</td>\n",
              "    </tr>\n",
              "    <tr>\n",
              "      <th>1</th>\n",
              "      <td>1</td>\n",
              "      <td>4a811230-ffa4-4631-a4c8-5d0394137d02</td>\n",
              "      <td>2018-06-14 17:11:19.469</td>\n",
              "      <td>Mozilla/5.0 (iPhone; CPU iPhone OS 11_4 like M...</td>\n",
              "      <td>NaN</td>\n",
              "      <td>NaN</td>\n",
              "      <td>1r3iotmp0o9slom91stdt9vivc</td>\n",
              "      <td>10.0</td>\n",
              "      <td>14.800882</td>\n",
              "      <td>102.533777</td>\n",
              "    </tr>\n",
              "    <tr>\n",
              "      <th>2</th>\n",
              "      <td>2</td>\n",
              "      <td>7ad6ee8e-438e-4bea-9183-74dcef9e358e</td>\n",
              "      <td>2018-06-14 13:22:31.736</td>\n",
              "      <td>Mozilla/5.0 (Linux; Android 7.0; SAMSUNG SM-J7...</td>\n",
              "      <td>NaN</td>\n",
              "      <td>NaN</td>\n",
              "      <td>5ci1eo4v5u9dha4ppgu94ue7p6</td>\n",
              "      <td>8.0</td>\n",
              "      <td>13.738260</td>\n",
              "      <td>100.371405</td>\n",
              "    </tr>\n",
              "    <tr>\n",
              "      <th>3</th>\n",
              "      <td>3</td>\n",
              "      <td>0c17a5f5-fa89-40f4-ae94-a8659268f827</td>\n",
              "      <td>2018-06-02 12:37:27.331</td>\n",
              "      <td>Mozilla/5.0 (Linux; Android 7.1.1; SM-N950F Bu...</td>\n",
              "      <td>NaN</td>\n",
              "      <td>NaN</td>\n",
              "      <td>39n535qgje9kpojp0grhfj8umk</td>\n",
              "      <td>12.0</td>\n",
              "      <td>12.666877</td>\n",
              "      <td>101.860838</td>\n",
              "    </tr>\n",
              "    <tr>\n",
              "      <th>4</th>\n",
              "      <td>4</td>\n",
              "      <td>6870dc3a-5602-44fc-80ed-df0a7783df9d</td>\n",
              "      <td>2018-06-02 11:19:22.404</td>\n",
              "      <td>Mozilla/5.0 (iPhone; CPU iPhone OS 11_3_1 like...</td>\n",
              "      <td>NaN</td>\n",
              "      <td>NaN</td>\n",
              "      <td>5pa03h6lj691to60erver1l8o4</td>\n",
              "      <td>14.0</td>\n",
              "      <td>12.237242</td>\n",
              "      <td>99.879998</td>\n",
              "    </tr>\n",
              "  </tbody>\n",
              "</table>\n",
              "</div>"
            ],
            "text/plain": [
              "   Unnamed: 0                             search_id  ...        lat        long\n",
              "0           0  683de889-f923-494e-9d46-44a3d67b7259  ...  12.634739  101.463177\n",
              "1           1  4a811230-ffa4-4631-a4c8-5d0394137d02  ...  14.800882  102.533777\n",
              "2           2  7ad6ee8e-438e-4bea-9183-74dcef9e358e  ...  13.738260  100.371405\n",
              "3           3  0c17a5f5-fa89-40f4-ae94-a8659268f827  ...  12.666877  101.860838\n",
              "4           4  6870dc3a-5602-44fc-80ed-df0a7783df9d  ...  12.237242   99.879998\n",
              "\n",
              "[5 rows x 10 columns]"
            ]
          },
          "metadata": {
            "tags": []
          },
          "execution_count": 79
        }
      ]
    },
    {
      "cell_type": "code",
      "metadata": {
        "id": "K-PfVAq1x-kb"
      },
      "source": [
        "from datetime import time"
      ],
      "execution_count": 80,
      "outputs": []
    },
    {
      "cell_type": "code",
      "metadata": {
        "id": "bNCqONkZClvB"
      },
      "source": [
        "from datetime import datetime, time"
      ],
      "execution_count": 81,
      "outputs": []
    },
    {
      "cell_type": "code",
      "metadata": {
        "colab": {
          "base_uri": "https://localhost:8080/",
          "height": 35
        },
        "id": "bN0GHbBTCn4K",
        "outputId": "22aa0a20-052f-4bea-bef6-ed6234d281f0"
      },
      "source": [
        "data.iloc[0,2]"
      ],
      "execution_count": 82,
      "outputs": [
        {
          "output_type": "execute_result",
          "data": {
            "application/vnd.google.colaboratory.intrinsic+json": {
              "type": "string"
            },
            "text/plain": [
              "'2018-06-14 12:34:35.449'"
            ]
          },
          "metadata": {
            "tags": []
          },
          "execution_count": 82
        }
      ]
    },
    {
      "cell_type": "code",
      "metadata": {
        "colab": {
          "base_uri": "https://localhost:8080/",
          "height": 966
        },
        "id": "3rB2iTcgHuxy",
        "outputId": "230cf27d-7953-47b5-9a75-5db6338bcf1c"
      },
      "source": [
        "data['search_timestamp_v2'] = pd.to_datetime(data['search_timestamp'], format='%Y-%m-%d %H:%M:%S')\n",
        "data"
      ],
      "execution_count": 96,
      "outputs": [
        {
          "output_type": "execute_result",
          "data": {
            "text/html": [
              "<div>\n",
              "<style scoped>\n",
              "    .dataframe tbody tr th:only-of-type {\n",
              "        vertical-align: middle;\n",
              "    }\n",
              "\n",
              "    .dataframe tbody tr th {\n",
              "        vertical-align: top;\n",
              "    }\n",
              "\n",
              "    .dataframe thead th {\n",
              "        text-align: right;\n",
              "    }\n",
              "</style>\n",
              "<table border=\"1\" class=\"dataframe\">\n",
              "  <thead>\n",
              "    <tr style=\"text-align: right;\">\n",
              "      <th></th>\n",
              "      <th>Unnamed: 0</th>\n",
              "      <th>search_id</th>\n",
              "      <th>search_timestamp</th>\n",
              "      <th>user_agent</th>\n",
              "      <th>q</th>\n",
              "      <th>user_id</th>\n",
              "      <th>session_id</th>\n",
              "      <th>number_of_result</th>\n",
              "      <th>lat</th>\n",
              "      <th>long</th>\n",
              "      <th>search_timestamp_v2</th>\n",
              "    </tr>\n",
              "  </thead>\n",
              "  <tbody>\n",
              "    <tr>\n",
              "      <th>0</th>\n",
              "      <td>0</td>\n",
              "      <td>683de889-f923-494e-9d46-44a3d67b7259</td>\n",
              "      <td>2018-06-14 12:34:35.449</td>\n",
              "      <td>Wongnai/8.17.3 rv:8.17.3.3921 (iPhone5,4; iOS;...</td>\n",
              "      <td>NaN</td>\n",
              "      <td>NaN</td>\n",
              "      <td>5lqjjikta19d296mo7g2h1k86p</td>\n",
              "      <td>18.0</td>\n",
              "      <td>12.634739</td>\n",
              "      <td>101.463177</td>\n",
              "      <td>2018-06-14 12:34:35.449</td>\n",
              "    </tr>\n",
              "    <tr>\n",
              "      <th>1</th>\n",
              "      <td>1</td>\n",
              "      <td>4a811230-ffa4-4631-a4c8-5d0394137d02</td>\n",
              "      <td>2018-06-14 17:11:19.469</td>\n",
              "      <td>Mozilla/5.0 (iPhone; CPU iPhone OS 11_4 like M...</td>\n",
              "      <td>NaN</td>\n",
              "      <td>NaN</td>\n",
              "      <td>1r3iotmp0o9slom91stdt9vivc</td>\n",
              "      <td>10.0</td>\n",
              "      <td>14.800882</td>\n",
              "      <td>102.533777</td>\n",
              "      <td>2018-06-14 17:11:19.469</td>\n",
              "    </tr>\n",
              "    <tr>\n",
              "      <th>2</th>\n",
              "      <td>2</td>\n",
              "      <td>7ad6ee8e-438e-4bea-9183-74dcef9e358e</td>\n",
              "      <td>2018-06-14 13:22:31.736</td>\n",
              "      <td>Mozilla/5.0 (Linux; Android 7.0; SAMSUNG SM-J7...</td>\n",
              "      <td>NaN</td>\n",
              "      <td>NaN</td>\n",
              "      <td>5ci1eo4v5u9dha4ppgu94ue7p6</td>\n",
              "      <td>8.0</td>\n",
              "      <td>13.738260</td>\n",
              "      <td>100.371405</td>\n",
              "      <td>2018-06-14 13:22:31.736</td>\n",
              "    </tr>\n",
              "    <tr>\n",
              "      <th>3</th>\n",
              "      <td>3</td>\n",
              "      <td>0c17a5f5-fa89-40f4-ae94-a8659268f827</td>\n",
              "      <td>2018-06-02 12:37:27.331</td>\n",
              "      <td>Mozilla/5.0 (Linux; Android 7.1.1; SM-N950F Bu...</td>\n",
              "      <td>NaN</td>\n",
              "      <td>NaN</td>\n",
              "      <td>39n535qgje9kpojp0grhfj8umk</td>\n",
              "      <td>12.0</td>\n",
              "      <td>12.666877</td>\n",
              "      <td>101.860838</td>\n",
              "      <td>2018-06-02 12:37:27.331</td>\n",
              "    </tr>\n",
              "    <tr>\n",
              "      <th>4</th>\n",
              "      <td>4</td>\n",
              "      <td>6870dc3a-5602-44fc-80ed-df0a7783df9d</td>\n",
              "      <td>2018-06-02 11:19:22.404</td>\n",
              "      <td>Mozilla/5.0 (iPhone; CPU iPhone OS 11_3_1 like...</td>\n",
              "      <td>NaN</td>\n",
              "      <td>NaN</td>\n",
              "      <td>5pa03h6lj691to60erver1l8o4</td>\n",
              "      <td>14.0</td>\n",
              "      <td>12.237242</td>\n",
              "      <td>99.879998</td>\n",
              "      <td>2018-06-02 11:19:22.404</td>\n",
              "    </tr>\n",
              "    <tr>\n",
              "      <th>...</th>\n",
              "      <td>...</td>\n",
              "      <td>...</td>\n",
              "      <td>...</td>\n",
              "      <td>...</td>\n",
              "      <td>...</td>\n",
              "      <td>...</td>\n",
              "      <td>...</td>\n",
              "      <td>...</td>\n",
              "      <td>...</td>\n",
              "      <td>...</td>\n",
              "      <td>...</td>\n",
              "    </tr>\n",
              "    <tr>\n",
              "      <th>593106</th>\n",
              "      <td>593115</td>\n",
              "      <td>8c774da2-38b5-41b7-be62-aadc2d587263</td>\n",
              "      <td>2018-06-08 19:42:42.557</td>\n",
              "      <td>Wongnai/8.17.4 (iPhone7,2; iOS; 11.4; en_TH;)</td>\n",
              "      <td>NaN</td>\n",
              "      <td>NaN</td>\n",
              "      <td>1k3pterq6g8vmqdqq4dthaaq5v</td>\n",
              "      <td>22.0</td>\n",
              "      <td>13.722308</td>\n",
              "      <td>100.528004</td>\n",
              "      <td>2018-06-08 19:42:42.557</td>\n",
              "    </tr>\n",
              "    <tr>\n",
              "      <th>593107</th>\n",
              "      <td>593116</td>\n",
              "      <td>eb13b055-e8d2-43ee-8846-a21bd93d0cfb</td>\n",
              "      <td>2018-06-08 22:55:29.277</td>\n",
              "      <td>Wongnai/8.17.4 (iPhone7,2; iOS; 11.4; en_TH;)</td>\n",
              "      <td>NaN</td>\n",
              "      <td>111269.0</td>\n",
              "      <td>75cqb4qtoo9nv9e4o98vlktq5a</td>\n",
              "      <td>22.0</td>\n",
              "      <td>7.007957</td>\n",
              "      <td>100.487684</td>\n",
              "      <td>2018-06-08 22:55:29.277</td>\n",
              "    </tr>\n",
              "    <tr>\n",
              "      <th>593108</th>\n",
              "      <td>593117</td>\n",
              "      <td>efa0ae06-bb11-4708-b762-59df20fb89c5</td>\n",
              "      <td>2018-06-08 13:53:49.996</td>\n",
              "      <td>Wongnai/8.17.4 (iPhone7,2; iOS; 11.4; th_TH;)</td>\n",
              "      <td>NaN</td>\n",
              "      <td>21700.0</td>\n",
              "      <td>4i7f3mbn0h94tqfg3hhofei8ka</td>\n",
              "      <td>22.0</td>\n",
              "      <td>13.814888</td>\n",
              "      <td>100.449030</td>\n",
              "      <td>2018-06-08 13:53:49.996</td>\n",
              "    </tr>\n",
              "    <tr>\n",
              "      <th>593109</th>\n",
              "      <td>593118</td>\n",
              "      <td>dfae27f6-050d-4761-8bf0-04bdea0efd5a</td>\n",
              "      <td>2018-06-08 15:41:06.937</td>\n",
              "      <td>Wongnai/8.17.4 (iPhone7,2; iOS; 11.4; th_TH;)</td>\n",
              "      <td>NaN</td>\n",
              "      <td>NaN</td>\n",
              "      <td>56vjs3h5eg8d99paeoh61crmt1</td>\n",
              "      <td>22.0</td>\n",
              "      <td>13.720492</td>\n",
              "      <td>100.520834</td>\n",
              "      <td>2018-06-08 15:41:06.937</td>\n",
              "    </tr>\n",
              "    <tr>\n",
              "      <th>593110</th>\n",
              "      <td>593119</td>\n",
              "      <td>4cf850a9-2999-4595-9fb2-bb950137</td>\n",
              "      <td>NaN</td>\n",
              "      <td>NaN</td>\n",
              "      <td>NaN</td>\n",
              "      <td>NaN</td>\n",
              "      <td>NaN</td>\n",
              "      <td>NaN</td>\n",
              "      <td>NaN</td>\n",
              "      <td>NaN</td>\n",
              "      <td>NaT</td>\n",
              "    </tr>\n",
              "  </tbody>\n",
              "</table>\n",
              "<p>593111 rows × 11 columns</p>\n",
              "</div>"
            ],
            "text/plain": [
              "        Unnamed: 0  ...     search_timestamp_v2\n",
              "0                0  ... 2018-06-14 12:34:35.449\n",
              "1                1  ... 2018-06-14 17:11:19.469\n",
              "2                2  ... 2018-06-14 13:22:31.736\n",
              "3                3  ... 2018-06-02 12:37:27.331\n",
              "4                4  ... 2018-06-02 11:19:22.404\n",
              "...            ...  ...                     ...\n",
              "593106      593115  ... 2018-06-08 19:42:42.557\n",
              "593107      593116  ... 2018-06-08 22:55:29.277\n",
              "593108      593117  ... 2018-06-08 13:53:49.996\n",
              "593109      593118  ... 2018-06-08 15:41:06.937\n",
              "593110      593119  ...                     NaT\n",
              "\n",
              "[593111 rows x 11 columns]"
            ]
          },
          "metadata": {
            "tags": []
          },
          "execution_count": 96
        }
      ]
    },
    {
      "cell_type": "code",
      "metadata": {
        "colab": {
          "base_uri": "https://localhost:8080/",
          "height": 906
        },
        "id": "x8nrzfIATW3e",
        "outputId": "300e2372-ccaa-42ca-8447-2ddf6ac0f7f2"
      },
      "source": [
        "top_table = data.iloc[:10,:]\n",
        "top_table"
      ],
      "execution_count": 97,
      "outputs": [
        {
          "output_type": "execute_result",
          "data": {
            "text/html": [
              "<div>\n",
              "<style scoped>\n",
              "    .dataframe tbody tr th:only-of-type {\n",
              "        vertical-align: middle;\n",
              "    }\n",
              "\n",
              "    .dataframe tbody tr th {\n",
              "        vertical-align: top;\n",
              "    }\n",
              "\n",
              "    .dataframe thead th {\n",
              "        text-align: right;\n",
              "    }\n",
              "</style>\n",
              "<table border=\"1\" class=\"dataframe\">\n",
              "  <thead>\n",
              "    <tr style=\"text-align: right;\">\n",
              "      <th></th>\n",
              "      <th>Unnamed: 0</th>\n",
              "      <th>search_id</th>\n",
              "      <th>search_timestamp</th>\n",
              "      <th>user_agent</th>\n",
              "      <th>q</th>\n",
              "      <th>user_id</th>\n",
              "      <th>session_id</th>\n",
              "      <th>number_of_result</th>\n",
              "      <th>lat</th>\n",
              "      <th>long</th>\n",
              "      <th>search_timestamp_v2</th>\n",
              "    </tr>\n",
              "  </thead>\n",
              "  <tbody>\n",
              "    <tr>\n",
              "      <th>0</th>\n",
              "      <td>0</td>\n",
              "      <td>683de889-f923-494e-9d46-44a3d67b7259</td>\n",
              "      <td>2018-06-14 12:34:35.449</td>\n",
              "      <td>Wongnai/8.17.3 rv:8.17.3.3921 (iPhone5,4; iOS;...</td>\n",
              "      <td>NaN</td>\n",
              "      <td>NaN</td>\n",
              "      <td>5lqjjikta19d296mo7g2h1k86p</td>\n",
              "      <td>18.0</td>\n",
              "      <td>12.634739</td>\n",
              "      <td>101.463177</td>\n",
              "      <td>2018-06-14 12:34:35.449</td>\n",
              "    </tr>\n",
              "    <tr>\n",
              "      <th>1</th>\n",
              "      <td>1</td>\n",
              "      <td>4a811230-ffa4-4631-a4c8-5d0394137d02</td>\n",
              "      <td>2018-06-14 17:11:19.469</td>\n",
              "      <td>Mozilla/5.0 (iPhone; CPU iPhone OS 11_4 like M...</td>\n",
              "      <td>NaN</td>\n",
              "      <td>NaN</td>\n",
              "      <td>1r3iotmp0o9slom91stdt9vivc</td>\n",
              "      <td>10.0</td>\n",
              "      <td>14.800882</td>\n",
              "      <td>102.533777</td>\n",
              "      <td>2018-06-14 17:11:19.469</td>\n",
              "    </tr>\n",
              "    <tr>\n",
              "      <th>2</th>\n",
              "      <td>2</td>\n",
              "      <td>7ad6ee8e-438e-4bea-9183-74dcef9e358e</td>\n",
              "      <td>2018-06-14 13:22:31.736</td>\n",
              "      <td>Mozilla/5.0 (Linux; Android 7.0; SAMSUNG SM-J7...</td>\n",
              "      <td>NaN</td>\n",
              "      <td>NaN</td>\n",
              "      <td>5ci1eo4v5u9dha4ppgu94ue7p6</td>\n",
              "      <td>8.0</td>\n",
              "      <td>13.738260</td>\n",
              "      <td>100.371405</td>\n",
              "      <td>2018-06-14 13:22:31.736</td>\n",
              "    </tr>\n",
              "    <tr>\n",
              "      <th>3</th>\n",
              "      <td>3</td>\n",
              "      <td>0c17a5f5-fa89-40f4-ae94-a8659268f827</td>\n",
              "      <td>2018-06-02 12:37:27.331</td>\n",
              "      <td>Mozilla/5.0 (Linux; Android 7.1.1; SM-N950F Bu...</td>\n",
              "      <td>NaN</td>\n",
              "      <td>NaN</td>\n",
              "      <td>39n535qgje9kpojp0grhfj8umk</td>\n",
              "      <td>12.0</td>\n",
              "      <td>12.666877</td>\n",
              "      <td>101.860838</td>\n",
              "      <td>2018-06-02 12:37:27.331</td>\n",
              "    </tr>\n",
              "    <tr>\n",
              "      <th>4</th>\n",
              "      <td>4</td>\n",
              "      <td>6870dc3a-5602-44fc-80ed-df0a7783df9d</td>\n",
              "      <td>2018-06-02 11:19:22.404</td>\n",
              "      <td>Mozilla/5.0 (iPhone; CPU iPhone OS 11_3_1 like...</td>\n",
              "      <td>NaN</td>\n",
              "      <td>NaN</td>\n",
              "      <td>5pa03h6lj691to60erver1l8o4</td>\n",
              "      <td>14.0</td>\n",
              "      <td>12.237242</td>\n",
              "      <td>99.879998</td>\n",
              "      <td>2018-06-02 11:19:22.404</td>\n",
              "    </tr>\n",
              "    <tr>\n",
              "      <th>5</th>\n",
              "      <td>5</td>\n",
              "      <td>4c048ac7-9fc7-49e8-9ee4-20ff755b939d</td>\n",
              "      <td>2018-06-22 09:29:22.530</td>\n",
              "      <td>Wongnai/10.0 (iPhone9,4; iOS; 11.4; en_TH@cale...</td>\n",
              "      <td>NaN</td>\n",
              "      <td>NaN</td>\n",
              "      <td>3u94dntbdh94a9ranr2t20ms9s</td>\n",
              "      <td>17.0</td>\n",
              "      <td>12.853119</td>\n",
              "      <td>101.108515</td>\n",
              "      <td>2018-06-22 09:29:22.530</td>\n",
              "    </tr>\n",
              "    <tr>\n",
              "      <th>6</th>\n",
              "      <td>6</td>\n",
              "      <td>3ecf13ba-be4d-4eb9-9374-a1cca09d1614</td>\n",
              "      <td>2018-06-22 11:26:40.836</td>\n",
              "      <td>Wongnai/8.17.3 rv:8.17.3.3921 (iPhone8,4; iOS;...</td>\n",
              "      <td>ผัดไท</td>\n",
              "      <td>NaN</td>\n",
              "      <td>1m91ertp1g9a09agkl7dqtej30</td>\n",
              "      <td>17.0</td>\n",
              "      <td>12.451104</td>\n",
              "      <td>102.248522</td>\n",
              "      <td>2018-06-22 11:26:40.836</td>\n",
              "    </tr>\n",
              "    <tr>\n",
              "      <th>7</th>\n",
              "      <td>7</td>\n",
              "      <td>a7e6b7c5-3d3c-4337-8337-d29c5346b686</td>\n",
              "      <td>2018-06-22 09:19:42.950</td>\n",
              "      <td>Wongnai/10.0 (iPhone10,5; iOS; 11.4; en_TH@cal...</td>\n",
              "      <td>NaN</td>\n",
              "      <td>21588.0</td>\n",
              "      <td>6r2me4445u8noal5ra1a9hrk67</td>\n",
              "      <td>12.0</td>\n",
              "      <td>13.640855</td>\n",
              "      <td>100.433287</td>\n",
              "      <td>2018-06-22 09:19:42.950</td>\n",
              "    </tr>\n",
              "    <tr>\n",
              "      <th>8</th>\n",
              "      <td>8</td>\n",
              "      <td>02fedb5c-c9cd-46d7-9354-7613ecb7cfdd</td>\n",
              "      <td>2018-06-22 12:22:17.031</td>\n",
              "      <td>Wongnai/10.0 (iPhone10,6; iOS; 11.4; en_TH@cal...</td>\n",
              "      <td>vt แหนมเนือง</td>\n",
              "      <td>6967.0</td>\n",
              "      <td>4db1ugh8nj95totfl6dd4q4rb9</td>\n",
              "      <td>14.0</td>\n",
              "      <td>13.720904</td>\n",
              "      <td>100.527299</td>\n",
              "      <td>2018-06-22 12:22:17.031</td>\n",
              "    </tr>\n",
              "    <tr>\n",
              "      <th>9</th>\n",
              "      <td>9</td>\n",
              "      <td>e215d487-0450-4794-830a-ecfc0ab6493b</td>\n",
              "      <td>2018-06-22 12:15:24.769</td>\n",
              "      <td>Wongnai/10.0 (iPhone10,6; iOS; 11.4; en_TH@cal...</td>\n",
              "      <td>kuppadeli</td>\n",
              "      <td>6967.0</td>\n",
              "      <td>4orpg6839u93baoa36aicq78iq</td>\n",
              "      <td>9.0</td>\n",
              "      <td>13.720835</td>\n",
              "      <td>100.527152</td>\n",
              "      <td>2018-06-22 12:15:24.769</td>\n",
              "    </tr>\n",
              "  </tbody>\n",
              "</table>\n",
              "</div>"
            ],
            "text/plain": [
              "   Unnamed: 0  ...     search_timestamp_v2\n",
              "0           0  ... 2018-06-14 12:34:35.449\n",
              "1           1  ... 2018-06-14 17:11:19.469\n",
              "2           2  ... 2018-06-14 13:22:31.736\n",
              "3           3  ... 2018-06-02 12:37:27.331\n",
              "4           4  ... 2018-06-02 11:19:22.404\n",
              "5           5  ... 2018-06-22 09:29:22.530\n",
              "6           6  ... 2018-06-22 11:26:40.836\n",
              "7           7  ... 2018-06-22 09:19:42.950\n",
              "8           8  ... 2018-06-22 12:22:17.031\n",
              "9           9  ... 2018-06-22 12:15:24.769\n",
              "\n",
              "[10 rows x 11 columns]"
            ]
          },
          "metadata": {
            "tags": []
          },
          "execution_count": 97
        }
      ]
    },
    {
      "cell_type": "code",
      "metadata": {
        "colab": {
          "base_uri": "https://localhost:8080/"
        },
        "id": "_pMglbWuKSNv",
        "outputId": "9df3b66f-fbff-47f2-ddf2-e63786eda7d0"
      },
      "source": [
        "top_table.iloc[0,-1]"
      ],
      "execution_count": 85,
      "outputs": [
        {
          "output_type": "execute_result",
          "data": {
            "text/plain": [
              "Timestamp('2018-06-14 12:34:35.449000')"
            ]
          },
          "metadata": {
            "tags": []
          },
          "execution_count": 85
        }
      ]
    },
    {
      "cell_type": "code",
      "metadata": {
        "colab": {
          "base_uri": "https://localhost:8080/",
          "height": 35
        },
        "id": "kfY9ha59KiW4",
        "outputId": "45f2afc0-7bc6-478b-e280-3f0107705b20"
      },
      "source": [
        "datetime(2018, 6, 14, 12, 34, 35).ctime()"
      ],
      "execution_count": 86,
      "outputs": [
        {
          "output_type": "execute_result",
          "data": {
            "application/vnd.google.colaboratory.intrinsic+json": {
              "type": "string"
            },
            "text/plain": [
              "'Thu Jun 14 12:34:35 2018'"
            ]
          },
          "metadata": {
            "tags": []
          },
          "execution_count": 86
        }
      ]
    },
    {
      "cell_type": "code",
      "metadata": {
        "colab": {
          "base_uri": "https://localhost:8080/"
        },
        "id": "XWbFmOQJTywn",
        "outputId": "be72d68e-370e-4fe2-9c3f-7c271aaac15b"
      },
      "source": [
        "top_table.iloc[0,-1].day"
      ],
      "execution_count": 87,
      "outputs": [
        {
          "output_type": "execute_result",
          "data": {
            "text/plain": [
              "14"
            ]
          },
          "metadata": {
            "tags": []
          },
          "execution_count": 87
        }
      ]
    },
    {
      "cell_type": "code",
      "metadata": {
        "colab": {
          "base_uri": "https://localhost:8080/"
        },
        "id": "k1LYvr5YT6cY",
        "outputId": "20e13c66-1ef2-40a0-8de0-01932fa75fd7"
      },
      "source": [
        "top_table.iloc[0,-1].month"
      ],
      "execution_count": 88,
      "outputs": [
        {
          "output_type": "execute_result",
          "data": {
            "text/plain": [
              "6"
            ]
          },
          "metadata": {
            "tags": []
          },
          "execution_count": 88
        }
      ]
    },
    {
      "cell_type": "code",
      "metadata": {
        "colab": {
          "base_uri": "https://localhost:8080/"
        },
        "id": "1r5Pt3szT6iD",
        "outputId": "3f70d74b-3cda-45da-b1a0-555671985337"
      },
      "source": [
        "top_table.iloc[0,-1].year"
      ],
      "execution_count": 89,
      "outputs": [
        {
          "output_type": "execute_result",
          "data": {
            "text/plain": [
              "2018"
            ]
          },
          "metadata": {
            "tags": []
          },
          "execution_count": 89
        }
      ]
    },
    {
      "cell_type": "code",
      "metadata": {
        "colab": {
          "base_uri": "https://localhost:8080/"
        },
        "id": "KP9iIvGFT6oe",
        "outputId": "a0c4776d-5dd9-42e6-b6a7-964fd461296c"
      },
      "source": [
        "top_table.iloc[0,-1].dayofweek"
      ],
      "execution_count": 90,
      "outputs": [
        {
          "output_type": "execute_result",
          "data": {
            "text/plain": [
              "3"
            ]
          },
          "metadata": {
            "tags": []
          },
          "execution_count": 90
        }
      ]
    },
    {
      "cell_type": "code",
      "metadata": {
        "colab": {
          "base_uri": "https://localhost:8080/"
        },
        "id": "ZORr8CqHa1QG",
        "outputId": "73b01155-5f4c-4ecb-8905-9656be01f3ae"
      },
      "source": [
        "top_table.iloc[0,-1].hour"
      ],
      "execution_count": 91,
      "outputs": [
        {
          "output_type": "execute_result",
          "data": {
            "text/plain": [
              "12"
            ]
          },
          "metadata": {
            "tags": []
          },
          "execution_count": 91
        }
      ]
    },
    {
      "cell_type": "code",
      "metadata": {
        "colab": {
          "base_uri": "https://localhost:8080/",
          "height": 332
        },
        "id": "Yr13SzcVWUKw",
        "outputId": "9d284143-421d-40ed-94f4-bc24fa8759e1"
      },
      "source": [
        "top_table[top_table['search_timestamp_v2'].dt.dayofweek == 3]"
      ],
      "execution_count": 92,
      "outputs": [
        {
          "output_type": "execute_result",
          "data": {
            "text/html": [
              "<div>\n",
              "<style scoped>\n",
              "    .dataframe tbody tr th:only-of-type {\n",
              "        vertical-align: middle;\n",
              "    }\n",
              "\n",
              "    .dataframe tbody tr th {\n",
              "        vertical-align: top;\n",
              "    }\n",
              "\n",
              "    .dataframe thead th {\n",
              "        text-align: right;\n",
              "    }\n",
              "</style>\n",
              "<table border=\"1\" class=\"dataframe\">\n",
              "  <thead>\n",
              "    <tr style=\"text-align: right;\">\n",
              "      <th></th>\n",
              "      <th>Unnamed: 0</th>\n",
              "      <th>search_id</th>\n",
              "      <th>search_timestamp</th>\n",
              "      <th>user_agent</th>\n",
              "      <th>q</th>\n",
              "      <th>user_id</th>\n",
              "      <th>session_id</th>\n",
              "      <th>number_of_result</th>\n",
              "      <th>lat</th>\n",
              "      <th>long</th>\n",
              "      <th>search_timestamp_v2</th>\n",
              "    </tr>\n",
              "  </thead>\n",
              "  <tbody>\n",
              "    <tr>\n",
              "      <th>0</th>\n",
              "      <td>0</td>\n",
              "      <td>683de889-f923-494e-9d46-44a3d67b7259</td>\n",
              "      <td>2018-06-14 12:34:35.449</td>\n",
              "      <td>Wongnai/8.17.3 rv:8.17.3.3921 (iPhone5,4; iOS;...</td>\n",
              "      <td>NaN</td>\n",
              "      <td>NaN</td>\n",
              "      <td>5lqjjikta19d296mo7g2h1k86p</td>\n",
              "      <td>18.0</td>\n",
              "      <td>12.634739</td>\n",
              "      <td>101.463177</td>\n",
              "      <td>2018-06-14 12:34:35.449</td>\n",
              "    </tr>\n",
              "    <tr>\n",
              "      <th>1</th>\n",
              "      <td>1</td>\n",
              "      <td>4a811230-ffa4-4631-a4c8-5d0394137d02</td>\n",
              "      <td>2018-06-14 17:11:19.469</td>\n",
              "      <td>Mozilla/5.0 (iPhone; CPU iPhone OS 11_4 like M...</td>\n",
              "      <td>NaN</td>\n",
              "      <td>NaN</td>\n",
              "      <td>1r3iotmp0o9slom91stdt9vivc</td>\n",
              "      <td>10.0</td>\n",
              "      <td>14.800882</td>\n",
              "      <td>102.533777</td>\n",
              "      <td>2018-06-14 17:11:19.469</td>\n",
              "    </tr>\n",
              "    <tr>\n",
              "      <th>2</th>\n",
              "      <td>2</td>\n",
              "      <td>7ad6ee8e-438e-4bea-9183-74dcef9e358e</td>\n",
              "      <td>2018-06-14 13:22:31.736</td>\n",
              "      <td>Mozilla/5.0 (Linux; Android 7.0; SAMSUNG SM-J7...</td>\n",
              "      <td>NaN</td>\n",
              "      <td>NaN</td>\n",
              "      <td>5ci1eo4v5u9dha4ppgu94ue7p6</td>\n",
              "      <td>8.0</td>\n",
              "      <td>13.738260</td>\n",
              "      <td>100.371405</td>\n",
              "      <td>2018-06-14 13:22:31.736</td>\n",
              "    </tr>\n",
              "  </tbody>\n",
              "</table>\n",
              "</div>"
            ],
            "text/plain": [
              "   Unnamed: 0  ...     search_timestamp_v2\n",
              "0           0  ... 2018-06-14 12:34:35.449\n",
              "1           1  ... 2018-06-14 17:11:19.469\n",
              "2           2  ... 2018-06-14 13:22:31.736\n",
              "\n",
              "[3 rows x 11 columns]"
            ]
          },
          "metadata": {
            "tags": []
          },
          "execution_count": 92
        }
      ]
    },
    {
      "cell_type": "code",
      "metadata": {
        "colab": {
          "base_uri": "https://localhost:8080/",
          "height": 578
        },
        "id": "Ka_Y8X6uWjr2",
        "outputId": "b91b894b-069d-4370-d5b0-742262ca0a22"
      },
      "source": [
        "top_table[top_table['search_timestamp_v2'].dt.time>time(hour=12)] ##ดึงข้อมูลหลังเที่ยง"
      ],
      "execution_count": 93,
      "outputs": [
        {
          "output_type": "execute_result",
          "data": {
            "text/html": [
              "<div>\n",
              "<style scoped>\n",
              "    .dataframe tbody tr th:only-of-type {\n",
              "        vertical-align: middle;\n",
              "    }\n",
              "\n",
              "    .dataframe tbody tr th {\n",
              "        vertical-align: top;\n",
              "    }\n",
              "\n",
              "    .dataframe thead th {\n",
              "        text-align: right;\n",
              "    }\n",
              "</style>\n",
              "<table border=\"1\" class=\"dataframe\">\n",
              "  <thead>\n",
              "    <tr style=\"text-align: right;\">\n",
              "      <th></th>\n",
              "      <th>Unnamed: 0</th>\n",
              "      <th>search_id</th>\n",
              "      <th>search_timestamp</th>\n",
              "      <th>user_agent</th>\n",
              "      <th>q</th>\n",
              "      <th>user_id</th>\n",
              "      <th>session_id</th>\n",
              "      <th>number_of_result</th>\n",
              "      <th>lat</th>\n",
              "      <th>long</th>\n",
              "      <th>search_timestamp_v2</th>\n",
              "    </tr>\n",
              "  </thead>\n",
              "  <tbody>\n",
              "    <tr>\n",
              "      <th>0</th>\n",
              "      <td>0</td>\n",
              "      <td>683de889-f923-494e-9d46-44a3d67b7259</td>\n",
              "      <td>2018-06-14 12:34:35.449</td>\n",
              "      <td>Wongnai/8.17.3 rv:8.17.3.3921 (iPhone5,4; iOS;...</td>\n",
              "      <td>NaN</td>\n",
              "      <td>NaN</td>\n",
              "      <td>5lqjjikta19d296mo7g2h1k86p</td>\n",
              "      <td>18.0</td>\n",
              "      <td>12.634739</td>\n",
              "      <td>101.463177</td>\n",
              "      <td>2018-06-14 12:34:35.449</td>\n",
              "    </tr>\n",
              "    <tr>\n",
              "      <th>1</th>\n",
              "      <td>1</td>\n",
              "      <td>4a811230-ffa4-4631-a4c8-5d0394137d02</td>\n",
              "      <td>2018-06-14 17:11:19.469</td>\n",
              "      <td>Mozilla/5.0 (iPhone; CPU iPhone OS 11_4 like M...</td>\n",
              "      <td>NaN</td>\n",
              "      <td>NaN</td>\n",
              "      <td>1r3iotmp0o9slom91stdt9vivc</td>\n",
              "      <td>10.0</td>\n",
              "      <td>14.800882</td>\n",
              "      <td>102.533777</td>\n",
              "      <td>2018-06-14 17:11:19.469</td>\n",
              "    </tr>\n",
              "    <tr>\n",
              "      <th>2</th>\n",
              "      <td>2</td>\n",
              "      <td>7ad6ee8e-438e-4bea-9183-74dcef9e358e</td>\n",
              "      <td>2018-06-14 13:22:31.736</td>\n",
              "      <td>Mozilla/5.0 (Linux; Android 7.0; SAMSUNG SM-J7...</td>\n",
              "      <td>NaN</td>\n",
              "      <td>NaN</td>\n",
              "      <td>5ci1eo4v5u9dha4ppgu94ue7p6</td>\n",
              "      <td>8.0</td>\n",
              "      <td>13.738260</td>\n",
              "      <td>100.371405</td>\n",
              "      <td>2018-06-14 13:22:31.736</td>\n",
              "    </tr>\n",
              "    <tr>\n",
              "      <th>3</th>\n",
              "      <td>3</td>\n",
              "      <td>0c17a5f5-fa89-40f4-ae94-a8659268f827</td>\n",
              "      <td>2018-06-02 12:37:27.331</td>\n",
              "      <td>Mozilla/5.0 (Linux; Android 7.1.1; SM-N950F Bu...</td>\n",
              "      <td>NaN</td>\n",
              "      <td>NaN</td>\n",
              "      <td>39n535qgje9kpojp0grhfj8umk</td>\n",
              "      <td>12.0</td>\n",
              "      <td>12.666877</td>\n",
              "      <td>101.860838</td>\n",
              "      <td>2018-06-02 12:37:27.331</td>\n",
              "    </tr>\n",
              "    <tr>\n",
              "      <th>8</th>\n",
              "      <td>8</td>\n",
              "      <td>02fedb5c-c9cd-46d7-9354-7613ecb7cfdd</td>\n",
              "      <td>2018-06-22 12:22:17.031</td>\n",
              "      <td>Wongnai/10.0 (iPhone10,6; iOS; 11.4; en_TH@cal...</td>\n",
              "      <td>vt แหนมเนือง</td>\n",
              "      <td>6967.0</td>\n",
              "      <td>4db1ugh8nj95totfl6dd4q4rb9</td>\n",
              "      <td>14.0</td>\n",
              "      <td>13.720904</td>\n",
              "      <td>100.527299</td>\n",
              "      <td>2018-06-22 12:22:17.031</td>\n",
              "    </tr>\n",
              "    <tr>\n",
              "      <th>9</th>\n",
              "      <td>9</td>\n",
              "      <td>e215d487-0450-4794-830a-ecfc0ab6493b</td>\n",
              "      <td>2018-06-22 12:15:24.769</td>\n",
              "      <td>Wongnai/10.0 (iPhone10,6; iOS; 11.4; en_TH@cal...</td>\n",
              "      <td>kuppadeli</td>\n",
              "      <td>6967.0</td>\n",
              "      <td>4orpg6839u93baoa36aicq78iq</td>\n",
              "      <td>9.0</td>\n",
              "      <td>13.720835</td>\n",
              "      <td>100.527152</td>\n",
              "      <td>2018-06-22 12:15:24.769</td>\n",
              "    </tr>\n",
              "  </tbody>\n",
              "</table>\n",
              "</div>"
            ],
            "text/plain": [
              "   Unnamed: 0  ...     search_timestamp_v2\n",
              "0           0  ... 2018-06-14 12:34:35.449\n",
              "1           1  ... 2018-06-14 17:11:19.469\n",
              "2           2  ... 2018-06-14 13:22:31.736\n",
              "3           3  ... 2018-06-02 12:37:27.331\n",
              "8           8  ... 2018-06-22 12:22:17.031\n",
              "9           9  ... 2018-06-22 12:15:24.769\n",
              "\n",
              "[6 rows x 11 columns]"
            ]
          },
          "metadata": {
            "tags": []
          },
          "execution_count": 93
        }
      ]
    },
    {
      "cell_type": "code",
      "metadata": {
        "id": "Q0yaesn1Ki5B"
      },
      "source": [
        "A['number_of_result']"
      ],
      "execution_count": null,
      "outputs": []
    },
    {
      "cell_type": "markdown",
      "metadata": {
        "id": "AXIOyAX3v3qO"
      },
      "source": [
        "เปรียบเทียบจำนวน requests ของช่วงเวลา 11.00-11.59 กับ 23.00-23.59\n",
        "เปรียบเทียบจำนวน requests ของวันจันทร์-พฤหัส กับ ศุกร์-อาทิตย์\n",
        "เปรียบเทียบ requests ของวัน"
      ]
    },
    {
      "cell_type": "code",
      "metadata": {
        "colab": {
          "base_uri": "https://localhost:8080/",
          "height": 966
        },
        "id": "InzDMdFmvrS3",
        "outputId": "213c00b9-969e-448e-c146-43ee2eace12b"
      },
      "source": [
        "data_weekday = data[data['search_timestamp_v2'].dt.dayofweek <= 3] #วันจันทร์-พฤหัส\n",
        "data_weekday"
      ],
      "execution_count": 103,
      "outputs": [
        {
          "output_type": "execute_result",
          "data": {
            "text/html": [
              "<div>\n",
              "<style scoped>\n",
              "    .dataframe tbody tr th:only-of-type {\n",
              "        vertical-align: middle;\n",
              "    }\n",
              "\n",
              "    .dataframe tbody tr th {\n",
              "        vertical-align: top;\n",
              "    }\n",
              "\n",
              "    .dataframe thead th {\n",
              "        text-align: right;\n",
              "    }\n",
              "</style>\n",
              "<table border=\"1\" class=\"dataframe\">\n",
              "  <thead>\n",
              "    <tr style=\"text-align: right;\">\n",
              "      <th></th>\n",
              "      <th>Unnamed: 0</th>\n",
              "      <th>search_id</th>\n",
              "      <th>search_timestamp</th>\n",
              "      <th>user_agent</th>\n",
              "      <th>q</th>\n",
              "      <th>user_id</th>\n",
              "      <th>session_id</th>\n",
              "      <th>number_of_result</th>\n",
              "      <th>lat</th>\n",
              "      <th>long</th>\n",
              "      <th>search_timestamp_v2</th>\n",
              "    </tr>\n",
              "  </thead>\n",
              "  <tbody>\n",
              "    <tr>\n",
              "      <th>0</th>\n",
              "      <td>0</td>\n",
              "      <td>683de889-f923-494e-9d46-44a3d67b7259</td>\n",
              "      <td>2018-06-14 12:34:35.449</td>\n",
              "      <td>Wongnai/8.17.3 rv:8.17.3.3921 (iPhone5,4; iOS;...</td>\n",
              "      <td>NaN</td>\n",
              "      <td>NaN</td>\n",
              "      <td>5lqjjikta19d296mo7g2h1k86p</td>\n",
              "      <td>18.0</td>\n",
              "      <td>12.634739</td>\n",
              "      <td>101.463177</td>\n",
              "      <td>2018-06-14 12:34:35.449</td>\n",
              "    </tr>\n",
              "    <tr>\n",
              "      <th>1</th>\n",
              "      <td>1</td>\n",
              "      <td>4a811230-ffa4-4631-a4c8-5d0394137d02</td>\n",
              "      <td>2018-06-14 17:11:19.469</td>\n",
              "      <td>Mozilla/5.0 (iPhone; CPU iPhone OS 11_4 like M...</td>\n",
              "      <td>NaN</td>\n",
              "      <td>NaN</td>\n",
              "      <td>1r3iotmp0o9slom91stdt9vivc</td>\n",
              "      <td>10.0</td>\n",
              "      <td>14.800882</td>\n",
              "      <td>102.533777</td>\n",
              "      <td>2018-06-14 17:11:19.469</td>\n",
              "    </tr>\n",
              "    <tr>\n",
              "      <th>2</th>\n",
              "      <td>2</td>\n",
              "      <td>7ad6ee8e-438e-4bea-9183-74dcef9e358e</td>\n",
              "      <td>2018-06-14 13:22:31.736</td>\n",
              "      <td>Mozilla/5.0 (Linux; Android 7.0; SAMSUNG SM-J7...</td>\n",
              "      <td>NaN</td>\n",
              "      <td>NaN</td>\n",
              "      <td>5ci1eo4v5u9dha4ppgu94ue7p6</td>\n",
              "      <td>8.0</td>\n",
              "      <td>13.738260</td>\n",
              "      <td>100.371405</td>\n",
              "      <td>2018-06-14 13:22:31.736</td>\n",
              "    </tr>\n",
              "    <tr>\n",
              "      <th>19</th>\n",
              "      <td>19</td>\n",
              "      <td>5a68d9e6-3173-4e5c-9087-983c012d7a6d</td>\n",
              "      <td>2018-06-25 21:17:30.510</td>\n",
              "      <td>Wongnai/10.0 (iPhone7,1; iOS; 11.4; en_TH@cale...</td>\n",
              "      <td>กูโรตี</td>\n",
              "      <td>NaN</td>\n",
              "      <td>6nf7fbdeoi8r4as80m8pcfr3hu</td>\n",
              "      <td>8.0</td>\n",
              "      <td>13.297153</td>\n",
              "      <td>100.953701</td>\n",
              "      <td>2018-06-25 21:17:30.510</td>\n",
              "    </tr>\n",
              "    <tr>\n",
              "      <th>20</th>\n",
              "      <td>20</td>\n",
              "      <td>2807eb47-4bc4-445d-abae-0bb0d44867dd</td>\n",
              "      <td>2018-06-25 18:32:18.165</td>\n",
              "      <td>Wongnai/10.0 (iPhone8,4; iOS; 11.4; en_TH@cale...</td>\n",
              "      <td>NaN</td>\n",
              "      <td>NaN</td>\n",
              "      <td>5rdd3prvvb9obq15uqv897rrel</td>\n",
              "      <td>7.0</td>\n",
              "      <td>8.188164</td>\n",
              "      <td>98.288082</td>\n",
              "      <td>2018-06-25 18:32:18.165</td>\n",
              "    </tr>\n",
              "    <tr>\n",
              "      <th>...</th>\n",
              "      <td>...</td>\n",
              "      <td>...</td>\n",
              "      <td>...</td>\n",
              "      <td>...</td>\n",
              "      <td>...</td>\n",
              "      <td>...</td>\n",
              "      <td>...</td>\n",
              "      <td>...</td>\n",
              "      <td>...</td>\n",
              "      <td>...</td>\n",
              "      <td>...</td>\n",
              "    </tr>\n",
              "    <tr>\n",
              "      <th>584879</th>\n",
              "      <td>584888</td>\n",
              "      <td>ac42d842-dd33-43eb-8fce-ea2bd97192d1</td>\n",
              "      <td>2018-06-18 05:33:33.054</td>\n",
              "      <td>okhttp/3.9.0;WongnaiAndroid 8.16.6;samsung;SM-...</td>\n",
              "      <td>NaN</td>\n",
              "      <td>33066.0</td>\n",
              "      <td>7c8dfagdk994q8g38kf68ngktg</td>\n",
              "      <td>22.0</td>\n",
              "      <td>13.756638</td>\n",
              "      <td>100.433397</td>\n",
              "      <td>2018-06-18 05:33:33.054</td>\n",
              "    </tr>\n",
              "    <tr>\n",
              "      <th>584880</th>\n",
              "      <td>584889</td>\n",
              "      <td>0d6e29fe-1997-49ad-a712-47b9a0add185</td>\n",
              "      <td>2018-06-18 02:58:46.433</td>\n",
              "      <td>okhttp/3.9.0;WongnaiAndroid 8.16.6;samsung;SM-...</td>\n",
              "      <td>NaN</td>\n",
              "      <td>NaN</td>\n",
              "      <td>59i05bhard8t68qhqiv3ot4n3l</td>\n",
              "      <td>22.0</td>\n",
              "      <td>7.987153</td>\n",
              "      <td>98.370743</td>\n",
              "      <td>2018-06-18 02:58:46.433</td>\n",
              "    </tr>\n",
              "    <tr>\n",
              "      <th>584881</th>\n",
              "      <td>584890</td>\n",
              "      <td>b7159a10-8f8d-4083-8554-13d742d8e4ff</td>\n",
              "      <td>2018-06-18 06:46:01.184</td>\n",
              "      <td>okhttp/3.9.0;WongnaiAndroid 8.16.6;samsung;SM-...</td>\n",
              "      <td>NaN</td>\n",
              "      <td>19407.0</td>\n",
              "      <td>5vfrjass8g8jdae32qqp9ug9ev</td>\n",
              "      <td>22.0</td>\n",
              "      <td>12.683292</td>\n",
              "      <td>101.271738</td>\n",
              "      <td>2018-06-18 06:46:01.184</td>\n",
              "    </tr>\n",
              "    <tr>\n",
              "      <th>584882</th>\n",
              "      <td>584891</td>\n",
              "      <td>f5e447f2-5528-45de-b6ac-ecc8178126d3</td>\n",
              "      <td>2018-06-18 05:57:41.805</td>\n",
              "      <td>okhttp/3.9.0;WongnaiAndroid 8.16.6;samsung;SM-...</td>\n",
              "      <td>NaN</td>\n",
              "      <td>86274.0</td>\n",
              "      <td>5la069p3gd9c0b6vej59lbbsul</td>\n",
              "      <td>22.0</td>\n",
              "      <td>12.923463</td>\n",
              "      <td>100.906124</td>\n",
              "      <td>2018-06-18 05:57:41.805</td>\n",
              "    </tr>\n",
              "    <tr>\n",
              "      <th>584883</th>\n",
              "      <td>584892</td>\n",
              "      <td>4819ba68-73cf-47c7-879c-a0335bf2339e</td>\n",
              "      <td>2018-06-18 05:55:33.784</td>\n",
              "      <td>okhttp/3.9.0;WongnaiAndroid 8.16.6;samsung;SM-...</td>\n",
              "      <td>NaN</td>\n",
              "      <td>86274.0</td>\n",
              "      <td>5la069p3gd9c0b6vej59lbbsul</td>\n",
              "      <td>22.0</td>\n",
              "      <td>12.923463</td>\n",
              "      <td>100.906124</td>\n",
              "      <td>2018-06-18 05:55:33.784</td>\n",
              "    </tr>\n",
              "  </tbody>\n",
              "</table>\n",
              "<p>237994 rows × 11 columns</p>\n",
              "</div>"
            ],
            "text/plain": [
              "        Unnamed: 0  ...     search_timestamp_v2\n",
              "0                0  ... 2018-06-14 12:34:35.449\n",
              "1                1  ... 2018-06-14 17:11:19.469\n",
              "2                2  ... 2018-06-14 13:22:31.736\n",
              "19              19  ... 2018-06-25 21:17:30.510\n",
              "20              20  ... 2018-06-25 18:32:18.165\n",
              "...            ...  ...                     ...\n",
              "584879      584888  ... 2018-06-18 05:33:33.054\n",
              "584880      584889  ... 2018-06-18 02:58:46.433\n",
              "584881      584890  ... 2018-06-18 06:46:01.184\n",
              "584882      584891  ... 2018-06-18 05:57:41.805\n",
              "584883      584892  ... 2018-06-18 05:55:33.784\n",
              "\n",
              "[237994 rows x 11 columns]"
            ]
          },
          "metadata": {
            "tags": []
          },
          "execution_count": 103
        }
      ]
    },
    {
      "cell_type": "code",
      "metadata": {
        "colab": {
          "base_uri": "https://localhost:8080/",
          "height": 966
        },
        "id": "Ehp3b4E2vrcL",
        "outputId": "b6e915da-2b34-4257-a2f1-84ad48538730"
      },
      "source": [
        "data_holiday = data[data['search_timestamp_v2'].dt.dayofweek >= 4] #ศุกร์-อาทิตย์\n",
        "data_holiday"
      ],
      "execution_count": 105,
      "outputs": [
        {
          "output_type": "execute_result",
          "data": {
            "text/html": [
              "<div>\n",
              "<style scoped>\n",
              "    .dataframe tbody tr th:only-of-type {\n",
              "        vertical-align: middle;\n",
              "    }\n",
              "\n",
              "    .dataframe tbody tr th {\n",
              "        vertical-align: top;\n",
              "    }\n",
              "\n",
              "    .dataframe thead th {\n",
              "        text-align: right;\n",
              "    }\n",
              "</style>\n",
              "<table border=\"1\" class=\"dataframe\">\n",
              "  <thead>\n",
              "    <tr style=\"text-align: right;\">\n",
              "      <th></th>\n",
              "      <th>Unnamed: 0</th>\n",
              "      <th>search_id</th>\n",
              "      <th>search_timestamp</th>\n",
              "      <th>user_agent</th>\n",
              "      <th>q</th>\n",
              "      <th>user_id</th>\n",
              "      <th>session_id</th>\n",
              "      <th>number_of_result</th>\n",
              "      <th>lat</th>\n",
              "      <th>long</th>\n",
              "      <th>search_timestamp_v2</th>\n",
              "    </tr>\n",
              "  </thead>\n",
              "  <tbody>\n",
              "    <tr>\n",
              "      <th>3</th>\n",
              "      <td>3</td>\n",
              "      <td>0c17a5f5-fa89-40f4-ae94-a8659268f827</td>\n",
              "      <td>2018-06-02 12:37:27.331</td>\n",
              "      <td>Mozilla/5.0 (Linux; Android 7.1.1; SM-N950F Bu...</td>\n",
              "      <td>NaN</td>\n",
              "      <td>NaN</td>\n",
              "      <td>39n535qgje9kpojp0grhfj8umk</td>\n",
              "      <td>12.0</td>\n",
              "      <td>12.666877</td>\n",
              "      <td>101.860838</td>\n",
              "      <td>2018-06-02 12:37:27.331</td>\n",
              "    </tr>\n",
              "    <tr>\n",
              "      <th>4</th>\n",
              "      <td>4</td>\n",
              "      <td>6870dc3a-5602-44fc-80ed-df0a7783df9d</td>\n",
              "      <td>2018-06-02 11:19:22.404</td>\n",
              "      <td>Mozilla/5.0 (iPhone; CPU iPhone OS 11_3_1 like...</td>\n",
              "      <td>NaN</td>\n",
              "      <td>NaN</td>\n",
              "      <td>5pa03h6lj691to60erver1l8o4</td>\n",
              "      <td>14.0</td>\n",
              "      <td>12.237242</td>\n",
              "      <td>99.879998</td>\n",
              "      <td>2018-06-02 11:19:22.404</td>\n",
              "    </tr>\n",
              "    <tr>\n",
              "      <th>5</th>\n",
              "      <td>5</td>\n",
              "      <td>4c048ac7-9fc7-49e8-9ee4-20ff755b939d</td>\n",
              "      <td>2018-06-22 09:29:22.530</td>\n",
              "      <td>Wongnai/10.0 (iPhone9,4; iOS; 11.4; en_TH@cale...</td>\n",
              "      <td>NaN</td>\n",
              "      <td>NaN</td>\n",
              "      <td>3u94dntbdh94a9ranr2t20ms9s</td>\n",
              "      <td>17.0</td>\n",
              "      <td>12.853119</td>\n",
              "      <td>101.108515</td>\n",
              "      <td>2018-06-22 09:29:22.530</td>\n",
              "    </tr>\n",
              "    <tr>\n",
              "      <th>6</th>\n",
              "      <td>6</td>\n",
              "      <td>3ecf13ba-be4d-4eb9-9374-a1cca09d1614</td>\n",
              "      <td>2018-06-22 11:26:40.836</td>\n",
              "      <td>Wongnai/8.17.3 rv:8.17.3.3921 (iPhone8,4; iOS;...</td>\n",
              "      <td>ผัดไท</td>\n",
              "      <td>NaN</td>\n",
              "      <td>1m91ertp1g9a09agkl7dqtej30</td>\n",
              "      <td>17.0</td>\n",
              "      <td>12.451104</td>\n",
              "      <td>102.248522</td>\n",
              "      <td>2018-06-22 11:26:40.836</td>\n",
              "    </tr>\n",
              "    <tr>\n",
              "      <th>7</th>\n",
              "      <td>7</td>\n",
              "      <td>a7e6b7c5-3d3c-4337-8337-d29c5346b686</td>\n",
              "      <td>2018-06-22 09:19:42.950</td>\n",
              "      <td>Wongnai/10.0 (iPhone10,5; iOS; 11.4; en_TH@cal...</td>\n",
              "      <td>NaN</td>\n",
              "      <td>21588.0</td>\n",
              "      <td>6r2me4445u8noal5ra1a9hrk67</td>\n",
              "      <td>12.0</td>\n",
              "      <td>13.640855</td>\n",
              "      <td>100.433287</td>\n",
              "      <td>2018-06-22 09:19:42.950</td>\n",
              "    </tr>\n",
              "    <tr>\n",
              "      <th>...</th>\n",
              "      <td>...</td>\n",
              "      <td>...</td>\n",
              "      <td>...</td>\n",
              "      <td>...</td>\n",
              "      <td>...</td>\n",
              "      <td>...</td>\n",
              "      <td>...</td>\n",
              "      <td>...</td>\n",
              "      <td>...</td>\n",
              "      <td>...</td>\n",
              "      <td>...</td>\n",
              "    </tr>\n",
              "    <tr>\n",
              "      <th>593105</th>\n",
              "      <td>593114</td>\n",
              "      <td>5a32cf00-95e2-4b89-86e9-2a7bb14cdf37</td>\n",
              "      <td>2018-06-08 19:37:20.836</td>\n",
              "      <td>Wongnai/8.17.4 (iPhone7,2; iOS; 11.4; en_TH;)</td>\n",
              "      <td>NaN</td>\n",
              "      <td>NaN</td>\n",
              "      <td>1k3pterq6g8vmqdqq4dthaaq5v</td>\n",
              "      <td>22.0</td>\n",
              "      <td>13.722308</td>\n",
              "      <td>100.528004</td>\n",
              "      <td>2018-06-08 19:37:20.836</td>\n",
              "    </tr>\n",
              "    <tr>\n",
              "      <th>593106</th>\n",
              "      <td>593115</td>\n",
              "      <td>8c774da2-38b5-41b7-be62-aadc2d587263</td>\n",
              "      <td>2018-06-08 19:42:42.557</td>\n",
              "      <td>Wongnai/8.17.4 (iPhone7,2; iOS; 11.4; en_TH;)</td>\n",
              "      <td>NaN</td>\n",
              "      <td>NaN</td>\n",
              "      <td>1k3pterq6g8vmqdqq4dthaaq5v</td>\n",
              "      <td>22.0</td>\n",
              "      <td>13.722308</td>\n",
              "      <td>100.528004</td>\n",
              "      <td>2018-06-08 19:42:42.557</td>\n",
              "    </tr>\n",
              "    <tr>\n",
              "      <th>593107</th>\n",
              "      <td>593116</td>\n",
              "      <td>eb13b055-e8d2-43ee-8846-a21bd93d0cfb</td>\n",
              "      <td>2018-06-08 22:55:29.277</td>\n",
              "      <td>Wongnai/8.17.4 (iPhone7,2; iOS; 11.4; en_TH;)</td>\n",
              "      <td>NaN</td>\n",
              "      <td>111269.0</td>\n",
              "      <td>75cqb4qtoo9nv9e4o98vlktq5a</td>\n",
              "      <td>22.0</td>\n",
              "      <td>7.007957</td>\n",
              "      <td>100.487684</td>\n",
              "      <td>2018-06-08 22:55:29.277</td>\n",
              "    </tr>\n",
              "    <tr>\n",
              "      <th>593108</th>\n",
              "      <td>593117</td>\n",
              "      <td>efa0ae06-bb11-4708-b762-59df20fb89c5</td>\n",
              "      <td>2018-06-08 13:53:49.996</td>\n",
              "      <td>Wongnai/8.17.4 (iPhone7,2; iOS; 11.4; th_TH;)</td>\n",
              "      <td>NaN</td>\n",
              "      <td>21700.0</td>\n",
              "      <td>4i7f3mbn0h94tqfg3hhofei8ka</td>\n",
              "      <td>22.0</td>\n",
              "      <td>13.814888</td>\n",
              "      <td>100.449030</td>\n",
              "      <td>2018-06-08 13:53:49.996</td>\n",
              "    </tr>\n",
              "    <tr>\n",
              "      <th>593109</th>\n",
              "      <td>593118</td>\n",
              "      <td>dfae27f6-050d-4761-8bf0-04bdea0efd5a</td>\n",
              "      <td>2018-06-08 15:41:06.937</td>\n",
              "      <td>Wongnai/8.17.4 (iPhone7,2; iOS; 11.4; th_TH;)</td>\n",
              "      <td>NaN</td>\n",
              "      <td>NaN</td>\n",
              "      <td>56vjs3h5eg8d99paeoh61crmt1</td>\n",
              "      <td>22.0</td>\n",
              "      <td>13.720492</td>\n",
              "      <td>100.520834</td>\n",
              "      <td>2018-06-08 15:41:06.937</td>\n",
              "    </tr>\n",
              "  </tbody>\n",
              "</table>\n",
              "<p>355116 rows × 11 columns</p>\n",
              "</div>"
            ],
            "text/plain": [
              "        Unnamed: 0  ...     search_timestamp_v2\n",
              "3                3  ... 2018-06-02 12:37:27.331\n",
              "4                4  ... 2018-06-02 11:19:22.404\n",
              "5                5  ... 2018-06-22 09:29:22.530\n",
              "6                6  ... 2018-06-22 11:26:40.836\n",
              "7                7  ... 2018-06-22 09:19:42.950\n",
              "...            ...  ...                     ...\n",
              "593105      593114  ... 2018-06-08 19:37:20.836\n",
              "593106      593115  ... 2018-06-08 19:42:42.557\n",
              "593107      593116  ... 2018-06-08 22:55:29.277\n",
              "593108      593117  ... 2018-06-08 13:53:49.996\n",
              "593109      593118  ... 2018-06-08 15:41:06.937\n",
              "\n",
              "[355116 rows x 11 columns]"
            ]
          },
          "metadata": {
            "tags": []
          },
          "execution_count": 105
        }
      ]
    },
    {
      "cell_type": "code",
      "metadata": {
        "colab": {
          "base_uri": "https://localhost:8080/"
        },
        "id": "tGrActClvrfK",
        "outputId": "bd6383c9-30e5-4b1c-c46f-9449faf52d6e"
      },
      "source": [
        "compare_day = data_weekday['Unnamed: 0'].sum() < data_holiday['Unnamed: 0'].sum()\n",
        "compare_day"
      ],
      "execution_count": 106,
      "outputs": [
        {
          "output_type": "execute_result",
          "data": {
            "text/plain": [
              "True"
            ]
          },
          "metadata": {
            "tags": []
          },
          "execution_count": 106
        }
      ]
    },
    {
      "cell_type": "code",
      "metadata": {
        "colab": {
          "base_uri": "https://localhost:8080/"
        },
        "id": "wyfd7bKfvrkN",
        "outputId": "8a8eb9f4-2c38-4feb-8104-13dab0bdf55a"
      },
      "source": [
        "print(f\"จำนวน requests ของวันจันทร์-พฤหัส มากกว่า วันศุกร์-อาทิตย์ แสดงว่าในวันธรรมดาจะมีผู้ใช้แอพพิเคชั่นในการหาร้านอาหารน้อยกว่าในวันหยุด\")"
      ],
      "execution_count": 107,
      "outputs": [
        {
          "output_type": "stream",
          "text": [
            "จำนวน requests ของวันจันทร์-พฤหัส มากกว่า วันศุกร์-อาทิตย์ แสดงว่าในวันธรรมดาจะมีผู้ใช้แอพพิเคชั่นในการหาร้านอาหารน้อยกว่าในวันหยุด\n"
          ],
          "name": "stdout"
        }
      ]
    },
    {
      "cell_type": "markdown",
      "metadata": {
        "id": "XEuNK9aNv9Cn"
      },
      "source": [
        "เปรียบเทียบจำนวน requests ของช่วงเวลา"
      ]
    },
    {
      "cell_type": "code",
      "metadata": {
        "colab": {
          "base_uri": "https://localhost:8080/"
        },
        "id": "HpeTCqiFvrsE",
        "outputId": "8348fd44-4fe3-42cc-e14e-05a0c9ce6442"
      },
      "source": [
        "data_daylight = data[data['search_timestamp_v2'].dt.time < time(hour=12)]\n",
        "data_daylight= data_daylight[data_daylight['search_timestamp_v2'].dt.time >= time(hour=11)]\n",
        "data_daylight= data_daylight.iloc[:,2].count()\n",
        "data_daylight"
      ],
      "execution_count": 108,
      "outputs": [
        {
          "output_type": "execute_result",
          "data": {
            "text/plain": [
              "43301"
            ]
          },
          "metadata": {
            "tags": []
          },
          "execution_count": 108
        }
      ]
    },
    {
      "cell_type": "code",
      "metadata": {
        "colab": {
          "base_uri": "https://localhost:8080/"
        },
        "id": "gssEciPovz2-",
        "outputId": "85472bf2-bacd-44fb-ae2e-d1a7b4c2b142"
      },
      "source": [
        "data_night  =data[data['search_timestamp_v2'].dt.time >= time(hour=23)]\n",
        "data_night = data_night.iloc[:,2].count()\n",
        "data_night"
      ],
      "execution_count": 109,
      "outputs": [
        {
          "output_type": "execute_result",
          "data": {
            "text/plain": [
              "15783"
            ]
          },
          "metadata": {
            "tags": []
          },
          "execution_count": 109
        }
      ]
    },
    {
      "cell_type": "code",
      "metadata": {
        "colab": {
          "base_uri": "https://localhost:8080/"
        },
        "id": "5Oj19JIXv2f1",
        "outputId": "83e0e0a2-2e23-4055-cb34-75599493e077"
      },
      "source": [
        "data_daylight > data_night"
      ],
      "execution_count": 110,
      "outputs": [
        {
          "output_type": "execute_result",
          "data": {
            "text/plain": [
              "True"
            ]
          },
          "metadata": {
            "tags": []
          },
          "execution_count": 110
        }
      ]
    }
  ]
}